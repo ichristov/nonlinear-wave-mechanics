{
 "cells": [
  {
   "cell_type": "markdown",
   "metadata": {
    "id": "DvD4wVCMfC3c"
   },
   "source": [
    "# Learning objective\n",
    "\n",
    "This notebook demonstrates the band-gap phenomenon exhibited by the linear Klein&ndash;Gordon equation. Specifically, it illustrates what happens when one attempts to drive waves at frequencies above and below the cutoff frequency."
   ]
  },
  {
   "cell_type": "markdown",
   "metadata": {
    "id": "21hNoidL2vnD"
   },
   "source": [
    "# Preliminaries"
   ]
  },
  {
   "cell_type": "code",
   "execution_count": 1,
   "metadata": {
    "executionInfo": {
     "elapsed": 2218,
     "status": "ok",
     "timestamp": 1714019131472,
     "user": {
      "displayName": "Ivan Christov",
      "userId": "03286852141196977463"
     },
     "user_tz": 240
    },
    "id": "MBp48ZTn2om4"
   },
   "outputs": [],
   "source": [
    "# interactive plots setup\n",
    "from ipywidgets import interact, interactive, fixed, interact_manual\n",
    "import ipywidgets as widgets\n",
    "\n",
    "# sympy setup\n",
    "import sympy as sp\n",
    "sp.init_printing()\n",
    "from sympy.vector import *\n",
    "\n",
    "# ploting customizations\n",
    "from matplotlib import pyplot as plt\n",
    "size=16\n",
    "params = {'legend.fontsize': 'large',\n",
    "#          'figure.figsize': (20,8),\n",
    "          'axes.labelsize': size,\n",
    "          'axes.titlesize': size,\n",
    "          'xtick.labelsize': size*0.875,\n",
    "          'ytick.labelsize': size*0.875,\n",
    "          'axes.titlepad': 25,\n",
    "          'animation.embed_limit': 2**128}\n",
    "plt.rcParams.update(params)\n",
    "%matplotlib inline\n",
    "from matplotlib import colormaps\n",
    "from mpl_toolkits.mplot3d import axes3d\n",
    "\n",
    "# for animations\n",
    "from matplotlib import animation, rc\n",
    "from IPython.display import HTML\n",
    "\n",
    "# numerics\n",
    "import numpy as np\n",
    "from scipy.integrate import solve_ivp\n",
    "from scipy.fft import fft, fftfreq\n",
    "from scipy.interpolate import griddata\n",
    "\n",
    "# to save plots as files and download them\n",
    "#from google.colab import files"
   ]
  },
  {
   "cell_type": "markdown",
   "metadata": {
    "id": "TEW12XbEQh-S"
   },
   "source": [
    "## Credit\n",
    "\n",
    "Initial version written by [Ivan C. Christov](http://christov.tmnt-lab.org), Purdue University."
   ]
  },
  {
   "cell_type": "markdown",
   "metadata": {
    "id": "ueiwnZZ6UI1z"
   },
   "source": [
    "# The Klein--Gordon equation"
   ]
  },
  {
   "cell_type": "markdown",
   "metadata": {
    "id": "ZfHywD-QULct"
   },
   "source": [
    "Consider the so-called [Klein&mdash;Gordon equation](https://en.wikipedia.org/wiki/Klein%E2%80%93Gordon_equation) with normalized coefficients (dimensionless):\n",
    "$$ u_{tt} - u_{xx} = - u. $$\n",
    "This equation arises as a relativistic wave equation in quantum mechanics, or as a linearlization of the [sine-Gordon equation](https://en.wikipedia.org/wiki/Sine-Gordon_equation) for small values of the field variable (angle)."
   ]
  },
  {
   "cell_type": "markdown",
   "metadata": {
    "id": "QFhpl62UI5lO"
   },
   "source": [
    "The Klein&mdash;Gordon equation exhibits a [band-gap](https://en.wikipedia.org/wiki/Band_gap) phenomenon in the sense that the dispersion relation\n",
    "$$ k(\\omega) = \\sqrt{\\omega^2 - 1}$$\n",
    "yield _purely imaginary_ $k$ for $\\omega < 1$, which does not allow harmonic waves to propagate.\n",
    "\n",
    "To substantiate this statement, we solve the KG equation numerically on the spatial interval $x_\\mathrm{min}\\le x \\le x_\\mathrm{max}$ up to $t=t_\\mathrm{max}$, and plot the results."
   ]
  },
  {
   "cell_type": "code",
   "execution_count": 2,
   "metadata": {
    "executionInfo": {
     "elapsed": 2,
     "status": "ok",
     "timestamp": 1714019131472,
     "user": {
      "displayName": "Ivan Christov",
      "userId": "03286852141196977463"
     },
     "user_tz": 240
    },
    "id": "2GVWVfD2U90t"
   },
   "outputs": [],
   "source": [
    "# spatial interval\n",
    "xmin = 0\n",
    "xmax = 10\n",
    "\n",
    "# number of grid points in discretization\n",
    "# use a power of 2 to make spatial ffts looks nice\n",
    "N = 512\n",
    "# grid spacing\n",
    "h = (xmax-xmin)/N\n",
    "\n",
    "# simulation run time\n",
    "tmax = 20"
   ]
  },
  {
   "cell_type": "markdown",
   "metadata": {
    "id": "fdF1-FpXwqTp"
   },
   "source": [
    "## The boundary conditions"
   ]
  },
  {
   "cell_type": "markdown",
   "metadata": {
    "id": "WJCan6MqI3kj"
   },
   "source": [
    "We will impose a Dirichlet BC at the left end (to force a wave into the domain) and a transmission BC at the right end (to ensure right-going waves leave the domain without reflection):\n",
    "$$ \\begin{align}\n",
    "u(x_\\mathrm{min},t) &= \\sin(\\omega t),\\\\\n",
    "u_t(x_\\mathrm{max},t) &= -u_x(x_\\mathrm{max},t), \\end{align} $$"
   ]
  },
  {
   "cell_type": "markdown",
   "metadata": {
    "id": "R0G0gY1O0Wpr"
   },
   "source": [
    "To force $u$ sinusoidally at the left domain endpoint, we define a function that returns _both_ $u(x_\\mathrm{min},t)$ and  $u_t(x_\\mathrm{min},t)=v(x_\\mathrm{min},t)$."
   ]
  },
  {
   "cell_type": "code",
   "execution_count": 3,
   "metadata": {
    "executionInfo": {
     "elapsed": 1,
     "status": "ok",
     "timestamp": 1714019131472,
     "user": {
      "displayName": "Ivan Christov",
      "userId": "03286852141196977463"
     },
     "user_tz": 240
    },
    "id": "0FroEDUfw0af"
   },
   "outputs": [],
   "source": [
    "# the forcing frequency at the boundary\n",
    "# it is dimensionless and normalized\n",
    "# so we are interested in omegabc > or < 1\n",
    "omegabc = 0.5\n",
    "\n",
    "def leftbc(t):\n",
    "  ulbc = np.sin(omegabc*t)\n",
    "  vlbc = omegabc*np.cos(omegabc*t)\n",
    "  return ulbc, vlbc"
   ]
  },
  {
   "cell_type": "markdown",
   "metadata": {
    "id": "u6A0hWQHL4wN"
   },
   "source": [
    "Change the BC frequency above and re-run the simulation to see the band-gap phenomenon."
   ]
  },
  {
   "cell_type": "markdown",
   "metadata": {
    "id": "wHjsVzwtz8Cn"
   },
   "source": [
    "## The initial condition"
   ]
  },
  {
   "cell_type": "markdown",
   "metadata": {
    "id": "X5YN14uwUZbb"
   },
   "source": [
    "For simplicity, we take a zero initial condition, since the wave is introduced at the boundary."
   ]
  },
  {
   "cell_type": "code",
   "execution_count": 4,
   "metadata": {
    "executionInfo": {
     "elapsed": 1,
     "status": "ok",
     "timestamp": 1714019131472,
     "user": {
      "displayName": "Ivan Christov",
      "userId": "03286852141196977463"
     },
     "user_tz": 240
    },
    "id": "7gNxgVk6Otkb"
   },
   "outputs": [],
   "source": [
    "# store the initial conditions (ICs) on u, v in a single vector\n",
    "uvic = np.zeros(2*N)\n",
    "\n",
    "# set the j = 0 elements to match the BCs\n",
    "uvic[0], uvic[N] = leftbc(0)"
   ]
  },
  {
   "cell_type": "markdown",
   "metadata": {
    "id": "3dCXOuY57_-0"
   },
   "source": [
    "# Numerical solution"
   ]
  },
  {
   "cell_type": "markdown",
   "metadata": {
    "id": "ovRrKAzZV8gB"
   },
   "source": [
    "First, we write the second-order KG equation as an equivalent first-order _system_:\n",
    "$$ \\begin{align} u_{t} &= v\\\\ v_t &= u_{xx} - u. \\end{align}$$\n",
    "\n",
    "The semi-discrete problem (using the [method of lines](https://reference.wolfram.com/language/tutorial/NDSolveMethodOfLines.html)) we wish to solve is\n",
    "$$ \\left. \\begin{align} \\dot{u}_j &= v_j,\\\\ \\dot{v}_j &= \\left(\\frac{u_{j+1} +2u_j - u_{j-1}}{h^2}\\right) - u_j \\end{align}\\right\\}\\quad j=1,\\dots,N-2, $$\n",
    "so that $u_j(t) \\approx u(x_j,t)$.\n",
    "\n",
    "At the boundary nodes $j=0$ and $j=N-1$, we use the specified BCs and [forward/backwards difference formul&aelig;](https://www.dam.brown.edu/people/alcyew/handouts/numdiff.pdf) for the derivatives (this ensures that we do not need to know $u_{-1}$ or $u_{N}$ as in our previous codes)."
   ]
  },
  {
   "cell_type": "code",
   "execution_count": 5,
   "metadata": {
    "executionInfo": {
     "elapsed": 1,
     "status": "ok",
     "timestamp": 1714019131472,
     "user": {
      "displayName": "Ivan Christov",
      "userId": "03286852141196977463"
     },
     "user_tz": 240
    },
    "id": "dgbSbIn-BpaP"
   },
   "outputs": [],
   "source": [
    "# ODE system right-hand side\n",
    "def kleingordon(t,u):\n",
    "  F = np.empty(2*N)\n",
    "\n",
    "  # boundary nodes require special care\n",
    "  ulbc, vlbc = leftbc(t)\n",
    "  F[0] = vlbc\n",
    "  # set u_t = -u_x at x_max to ensure transmission of waves\n",
    "  F[N-1] = -(3*u[N-1] - 4*u[N-2] + u[N-3])/(2*h)\n",
    "  # use forward difference formula for u_xx at x_min\n",
    "  F[N] = (2*ulbc - 5*u[1] + 4*u[2] - u[3])/h**3 - ulbc\n",
    "  # use backward difference formula for u_xx at x_max\n",
    "  F[2*N-1] = (2*u[N-1] - 5*u[N-2] + 4*u[N-3] - u[N-4])/h**3 - u[N-1]\n",
    "\n",
    "  # interior nodes, per the ODE formula\n",
    "  for j in range(1,N-1):\n",
    "    F[j]   = u[j+N]\n",
    "    F[j+N] = (u[j+1] - 2*u[j] + u[j-1])/h**2 - u[j]\n",
    "\n",
    "  return F"
   ]
  },
  {
   "cell_type": "code",
   "execution_count": 6,
   "metadata": {
    "executionInfo": {
     "elapsed": 50485,
     "status": "ok",
     "timestamp": 1714019181956,
     "user": {
      "displayName": "Ivan Christov",
      "userId": "03286852141196977463"
     },
     "user_tz": 240
    },
    "id": "PeXK73LTEt4v"
   },
   "outputs": [],
   "source": [
    "# try: test different tolerances for the integrator, changing reltol\n",
    "reltol = 1e-6\n",
    "\n",
    "# simulate the PDE\n",
    "sol = solve_ivp(fun=kleingordon,\n",
    "                t_span=[0,tmax], y0=uvic,\n",
    "                method='DOP853', rtol=reltol, dense_output=True)"
   ]
  },
  {
   "cell_type": "markdown",
   "metadata": {
    "id": "54XyhNc08HKR"
   },
   "source": [
    "# Results and visualization"
   ]
  },
  {
   "cell_type": "markdown",
   "metadata": {
    "id": "RkUCBh6x-Yu6"
   },
   "source": [
    "## Static plot\n",
    "\n",
    "First, just a quick static plot of the solution at the final time."
   ]
  },
  {
   "cell_type": "code",
   "execution_count": 7,
   "metadata": {
    "colab": {
     "base_uri": "https://localhost:8080/",
     "height": 571
    },
    "executionInfo": {
     "elapsed": 684,
     "status": "ok",
     "timestamp": 1714019182627,
     "user": {
      "displayName": "Ivan Christov",
      "userId": "03286852141196977463"
     },
     "user_tz": 240
    },
    "id": "xh-mA30ZWQOR",
    "outputId": "eb143f49-7dab-41ac-9ab9-8bfe1c7cf23c"
   },
   "outputs": [
    {
     "name": "stdout",
     "output_type": "stream",
     "text": [
      "NOTE: for this omegabc, ks is imaginary!\n",
      "\n"
     ]
    },
    {
     "data": {
      "image/png": "[encoded data removed]",
      "text/plain": [
       "<Figure size 700x500 with 2 Axes>"
      ]
     },
     "metadata": {},
     "output_type": "display_data"
    }
   ],
   "source": [
    "tplot = 20\n",
    "\n",
    "xj = np.linspace(xmin,xmax,num=N,endpoint=False)\n",
    "uj = sol.sol(tplot)[0:N]\n",
    "\n",
    "# compute spatial Fourier spectrum\n",
    "yf = fft(uj,512)\n",
    "xf = fftfreq(N, h)[:N//2]\n",
    "\n",
    "# the expected spatial wave number for the given BC\n",
    "# is found from the dispersion relation\n",
    "if omegabc**2-1 >= 0:\n",
    "  ks = np.sqrt(omegabc**2-1)/(2*np.pi)\n",
    "else:\n",
    "  ks = np.nan\n",
    "  print('NOTE: for this omegabc, ks is imaginary!\\n')\n",
    "\n",
    "fig, (ax1, ax2) = plt.subplots(2,1,figsize=(7,5))\n",
    "ax1.plot(xj, uj, lw=2, color='blue')\n",
    "ax1.set_ylabel('$u$')\n",
    "#ax.set_ylim(-1,3)\n",
    "ax1.set_xlabel('$x$')\n",
    "ax1.set_xlim(xmin,xmax)\n",
    "# nice label to show time\n",
    "ax1.text(0.825, 0.825, f'$t=${tplot:.3f}', size='large',\n",
    "        #bbox=dict(facecolor='none', edgecolor='black', boxstyle='round'),\n",
    "        transform=ax1.transAxes, animated=True)\n",
    "# so axes labels aren't cut off\n",
    "plt.tight_layout()\n",
    "\n",
    "ax2.plot(xf,2.0/N * np.abs(yf[0:N//2]), lw=2, color='black')\n",
    "# add vertical line for expected k value\n",
    "ax2.plot(ks**np.ones(10), np.linspace(0,1,10), ls='dashed', color='gray')\n",
    "ax2.plot(ks**np.ones(10), np.linspace(0,1,10), ls='dashed', color='gray')\n",
    "ax2.set_ylabel('PSD')\n",
    "ax2.set_xlabel('$k/(2\\pi)$')\n",
    "ax2.set_xlim(-0.1,5);"
   ]
  },
  {
   "cell_type": "markdown",
   "metadata": {
    "id": "Zlo3lHNXvEOV"
   },
   "source": [
    "The bottom plot shows a power spectrum density (PSD) computed from a _spatial_ FFT of $u(x,t_\\mathrm{plot})$. The dashed vertical line is the expected wave number $k(\\omega)$ (sholud it exists/be real) of the resulting wave."
   ]
  },
  {
   "cell_type": "markdown",
   "metadata": {
    "id": "2n2zF6_t8TbY"
   },
   "source": [
    "## Animation"
   ]
  },
  {
   "cell_type": "markdown",
   "metadata": {
    "id": "miyDNC_CExkY"
   },
   "source": [
    "Next, we visualize our results using our snazzy animation tools."
   ]
  },
  {
   "cell_type": "code",
   "execution_count": 8,
   "metadata": {
    "executionInfo": {
     "elapsed": 2,
     "status": "ok",
     "timestamp": 1714019182627,
     "user": {
      "displayName": "Ivan Christov",
      "userId": "03286852141196977463"
     },
     "user_tz": 240
    },
    "id": "HD4mbQ4LXkeO"
   },
   "outputs": [],
   "source": [
    "# define how to sample the solution in time\n",
    "tnum = 100\n",
    "dt = (tmax-0)/(tnum-1)\n",
    "tspan = np.array(range(0,tnum))*dt"
   ]
  },
  {
   "cell_type": "code",
   "execution_count": 9,
   "metadata": {
    "colab": {
     "base_uri": "https://localhost:8080/",
     "height": 578,
     "output_embedded_package_id": "134_olNny74OdEoIzMLa9faccOmbC1EAQ"
    },
    "executionInfo": {
     "elapsed": 10490,
     "status": "ok",
     "timestamp": 1714019193116,
     "user": {
      "displayName": "Ivan Christov",
      "userId": "03286852141196977463"
     },
     "user_tz": 240
    },
    "id": "um6FsjzEHkpk",
    "outputId": "507de40d-0fc6-4b4e-897a-fb4e89fc80c6"
   },
   "outputs": [
    {
     "data": {
      "text/plain": [
       "Output hidden; open in https://colab.research.google.com to view."
      ]
     },
     "metadata": {},
     "output_type": "display_data"
    }
   ],
   "source": [
    "# set up the figure and axes\n",
    "fig, ax = plt.subplots()\n",
    "ax.set_ylabel('$u$')\n",
    "ax.set_xlabel('$x$')\n",
    "ax.set_xlim(xmin,xmax)\n",
    "ax.set_ylim(-1.2,1.2)\n",
    "# nice dynamic label to show time\n",
    "ttl = ax.text(0.825, 0.925, '', size='large',\n",
    "              #bbox=dict(facecolor='none', edgecolor='black', boxstyle='round'),\n",
    "              transform=ax.transAxes, animated=True)\n",
    "# so axes labels aren't cut off\n",
    "plt.tight_layout()\n",
    "plt.close()\n",
    "\n",
    "# initialize plot objects with some dummy data (replaced in animation)\n",
    "line, = ax.plot(xj, 0*xj, color='blue', linewidth=2)\n",
    "\n",
    "# animation function called sequentially by `FuncAnimation' below\n",
    "def animate(it):\n",
    "  uj = sol.sol(it*dt)[0:N]\n",
    "  line.set_data(xj, uj)\n",
    "  ttl.set_text(f'$t={it*dt:.3f}$')\n",
    "\n",
    "  return (line, ttl, )\n",
    "\n",
    "framran = range(0,tnum)\n",
    "anim = animation.FuncAnimation(fig, animate, frames=framran,\n",
    "                               interval=100, blit=True)\n",
    "\n",
    "# this is necessary to get the animation to work on Google's Colab\n",
    "rc('animation', html='jshtml')\n",
    "anim"
   ]
  },
  {
   "cell_type": "markdown",
   "metadata": {
    "id": "Drby_maeh8wC"
   },
   "source": [
    "## Space-time plot"
   ]
  },
  {
   "cell_type": "code",
   "execution_count": 10,
   "metadata": {
    "executionInfo": {
     "elapsed": 10,
     "status": "ok",
     "timestamp": 1714019193116,
     "user": {
      "displayName": "Ivan Christov",
      "userId": "03286852141196977463"
     },
     "user_tz": 240
    },
    "id": "4Z3DpWPjXpmF"
   },
   "outputs": [],
   "source": [
    "# define how to sample the solution in time\n",
    "tnum = 200\n",
    "dt = (tmax-0)/(tnum-1)\n",
    "tspan = np.array(range(0,tnum))*dt"
   ]
  },
  {
   "cell_type": "code",
   "execution_count": 11,
   "metadata": {
    "colab": {
     "base_uri": "https://localhost:8080/",
     "height": 560
    },
    "executionInfo": {
     "elapsed": 289,
     "status": "ok",
     "timestamp": 1714019193396,
     "user": {
      "displayName": "Ivan Christov",
      "userId": "03286852141196977463"
     },
     "user_tz": 240
    },
    "id": "QJdoRm4li_fs",
    "outputId": "67f37869-efeb-47fb-807b-67360845f3b8"
   },
   "outputs": [
    {
     "data": {
      "image/png": "[encoded data removed]",
      "text/plain": [
       "<Figure size 1200x600 with 2 Axes>"
      ]
     },
     "metadata": {},
     "output_type": "display_data"
    }
   ],
   "source": [
    "# make a matrix of space-time values u(x,t)\n",
    "ujp = np.empty((tnum,N))\n",
    "for it in range(0,tnum):\n",
    "  ujp[it,:] = sol.sol(it*dt)[0:N]\n",
    "\n",
    "# make cool plot, try also cmap='RdGy'\n",
    "fig, ax = plt.subplots(figsize=(12, 6))\n",
    "plt.contourf(xj, tspan, ujp, 100, cmap='coolwarm')\n",
    "plt.colorbar(label='$u$')\n",
    "ax.set_ylim(0,tmax)\n",
    "ax.set_ylabel('$t$')\n",
    "ax.set_xlim(xmin,xmax)\n",
    "ax.set_xlabel('$x$')\n",
    "ax.set_aspect(1/1.5)"
   ]
  },
  {
   "cell_type": "code",
   "execution_count": 11,
   "metadata": {
    "executionInfo": {
     "elapsed": 18,
     "status": "ok",
     "timestamp": 1714019193397,
     "user": {
      "displayName": "Ivan Christov",
      "userId": "03286852141196977463"
     },
     "user_tz": 240
    },
    "id": "lDiOeuwCvgNr"
   },
   "outputs": [],
   "source": []
  }
 ],
 "metadata": {
  "colab": {
   "provenance": [
    {
     "file_id": "1IFdj9Kz5ggcD5d3b84KxeynZyjPY2ts7",
     "timestamp": 1611203165380
    }
   ],
   "toc_visible": true
  },
  "kernelspec": {
   "display_name": "Python 3",
   "name": "python3"
  }
 },
 "nbformat": 4,
 "nbformat_minor": 0
}

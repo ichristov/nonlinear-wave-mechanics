{
 "cells": [
  {
   "cell_type": "markdown",
   "metadata": {
    "id": "GAjfZGBMOzIv"
   },
   "source": [
    "# Learning objective\n",
    "\n",
    "This notebook illustrates the dynamics of solitary waves in granular chains with particle-particle contact. Examples and parameters are adapted from the [milestone paper](https://journals.aps.org/pre/collections/pre-milestones) by Coste, Falcon & Fauve in [_Physical Review E_](https://journals.aps.org/pre/abstract/10.1103/PhysRevE.56.6104). Comparisons are made to [Nesterenko's continuum theory](https://link.springer.com/book/10.1007%2F978-1-4757-3524-6)."
   ]
  },
  {
   "cell_type": "markdown",
   "metadata": {
    "id": "21hNoidL2vnD"
   },
   "source": [
    "# Preliminaries"
   ]
  },
  {
   "cell_type": "code",
   "execution_count": 1,
   "metadata": {
    "executionInfo": {
     "elapsed": 2411,
     "status": "ok",
     "timestamp": 1714019332968,
     "user": {
      "displayName": "Ivan Christov",
      "userId": "03286852141196977463"
     },
     "user_tz": 240
    },
    "id": "MBp48ZTn2om4"
   },
   "outputs": [],
   "source": [
    "# interactive plots setup\n",
    "from ipywidgets import interact, interactive, fixed, interact_manual\n",
    "import ipywidgets as widgets\n",
    "\n",
    "# sympy setup\n",
    "import sympy as sp\n",
    "sp.init_printing()\n",
    "from sympy.vector import *\n",
    "\n",
    "# ploting customizations\n",
    "from matplotlib import pyplot as plt\n",
    "size=16\n",
    "params = {'legend.fontsize': 'large',\n",
    "#          'figure.figsize': (20,8),\n",
    "          'axes.labelsize': size,\n",
    "          'axes.titlesize': size,\n",
    "          'xtick.labelsize': size*0.875,\n",
    "          'ytick.labelsize': size*0.875,\n",
    "          'axes.titlepad': 25,\n",
    "          'animation.embed_limit': 2**128}\n",
    "plt.rcParams.update(params)\n",
    "%matplotlib inline\n",
    "from matplotlib import colormaps\n",
    "from mpl_toolkits.mplot3d import axes3d\n",
    "\n",
    "# for animations\n",
    "from matplotlib import animation, rc\n",
    "from IPython.display import HTML\n",
    "\n",
    "# numerics\n",
    "import numpy as np\n",
    "from scipy.integrate import solve_ivp\n",
    "from scipy.fft import fft, fftfreq\n",
    "from scipy.interpolate import griddata\n",
    "from scipy import optimize\n",
    "\n",
    "# to save plots as files and download them\n",
    "#from google.colab import files"
   ]
  },
  {
   "cell_type": "markdown",
   "metadata": {
    "id": "TEW12XbEQh-S"
   },
   "source": [
    "## Credit\n",
    "\n",
    "Initial version written by [Ivan C. Christov](http://christov.tmnt-lab.org), Purdue University."
   ]
  },
  {
   "cell_type": "markdown",
   "metadata": {
    "id": "ueiwnZZ6UI1z"
   },
   "source": [
    "# The granular chain"
   ]
  },
  {
   "cell_type": "markdown",
   "metadata": {
    "id": "ZfHywD-QULct"
   },
   "source": [
    "The governing equation of the displacement of the $j$th particle (\"grain\") in a chain of identical spherical particles in Hertzian contact obeys\n",
    "$$ m \\ddot{u}_j = \\frac{\\sqrt{a/2}}{2\\theta}\\left\\{ [\\Delta_0 - (u_j - u_{j-1})]^{3/2} - [\\Delta_0 - (u_{j+1} - u_j)]^{3/2} \\right\\}, \\quad j=1,\\dots,N-2, $$\n",
    "where\n",
    "*   $\\Delta_0=2(\\theta F_0)^{2/3}/a^{1/3}$ is the _pre-compession_ (same for all particles, caused by the static force $F_0\\in[0,170]$ N),\n",
    "*   $m = 4\\pi\\rho a^3/3$ is the _mass_ of each particle with radius $a \\approx 4$ mm and of density $\\rho = 7650$ kg/m$^3$,\n",
    "*   $\\theta = 3(1-\\nu^2)/(4E) = 3.02\\times10^{-12}$ m$^2$/N is a parameter related to the Hertzian force law (Poisson ratio $\\nu=0.3$ and Young's modulus $E=2.26\\times10^{11}$ N/m$^2$).\n",
    "\n",
    "The values were obtained from Table 1 of Coste _et al._, corresponding to steel particles. The equations of motion for spheres $j=0$ and $j=N-1$ come from specifying boundary conditions."
   ]
  },
  {
   "cell_type": "code",
   "execution_count": 2,
   "metadata": {
    "colab": {
     "base_uri": "https://localhost:8080/"
    },
    "executionInfo": {
     "elapsed": 2,
     "status": "ok",
     "timestamp": 1714019332968,
     "user": {
      "displayName": "Ivan Christov",
      "userId": "03286852141196977463"
     },
     "user_tz": 240
    },
    "id": "2GVWVfD2U90t",
    "outputId": "14a2936d-7d37-4722-9ea8-201347ba8d03"
   },
   "outputs": [
    {
     "name": "stdout",
     "output_type": "stream",
     "text": [
      "delta0 = 0.000E+00\n"
     ]
    }
   ],
   "source": [
    "# physical parameters (SI units)\n",
    "rho = 7650\n",
    "a = 4e-3\n",
    "m = 4*np.pi*a**3*rho/3\n",
    "nu = 0.3\n",
    "E = 2.26e11\n",
    "theta = 3*(1-nu**2)/(4*E)\n",
    "F0 = 0\n",
    "delta0 = 2*(theta*F0)**(2/3)/a**(1/3)\n",
    "print(f'delta0 = {delta0:.3E}')\n",
    "\n",
    "# to be used in ODE\n",
    "rhs_coeff = np.sqrt(a/2)/(2*m*theta)\n",
    "\n",
    "# number of particles (\"grains\")\n",
    "N = 51"
   ]
  },
  {
   "cell_type": "markdown",
   "metadata": {
    "id": "V7yMcXRnt7mI"
   },
   "source": [
    "## The solitary-wave solution"
   ]
  },
  {
   "cell_type": "markdown",
   "metadata": {
    "id": "Y3NVlAKAt_y9"
   },
   "source": [
    "Nesterenko found an unusual traveling-wave solution in the long-wave limit ($a\\ll L$) with no precompression ($\\Delta_0=0$):\n",
    "$$ -u_x(x,t) = \\left(\\frac{5}{4}\\frac{V^2}{\\mathcal{C}^2}\\right)^2\\left[ \\cos^4\\left(\\frac{x-x_0-Vt}{a\\sqrt{10}}\\right)\\right]_+,$$\n",
    "where $\\mathcal{C}=\\sqrt{2a^3/(m\\theta)}$ is a nonlinear \"sound speed\" (check the units), $V$ is the phase speed of the traveling wave.\n",
    "\n",
    "Immediately, we observe that this solution goes to $0$ at $x=\\pm ...$ and remains zero for bigger $|x|$. Very unusual! This is called a [compacton](http://www.ams.org/notices/200507/what-is.pdf)."
   ]
  },
  {
   "cell_type": "code",
   "execution_count": 3,
   "metadata": {
    "executionInfo": {
     "elapsed": 166,
     "status": "ok",
     "timestamp": 1714019333133,
     "user": {
      "displayName": "Ivan Christov",
      "userId": "03286852141196977463"
     },
     "user_tz": 240
    },
    "id": "mLJ9k53QvnHX"
   },
   "outputs": [],
   "source": [
    "# the compacton -u_x, r0 = a is the radius of spheres\n",
    "def soli_x(x,t,x0,Vs,Cs,r0):\n",
    "  y = (x-x0-Vs*t)/(r0*np.sqrt(10))\n",
    "  ux = (5/4*Vs**2/Cs**2)**2*np.cos(y)**4\n",
    "  ux[y<-np.pi/2] = 0\n",
    "  ux[y>np.pi/2] = 0\n",
    "  return ux"
   ]
  },
  {
   "cell_type": "markdown",
   "metadata": {
    "id": "pUArKQ5XEY5q"
   },
   "source": [
    "Observe that, as in all our nonlinear wave solitary wave examples, the amplitude of the wave depends on its speed $V$. Inverting this relationship, the maximum strain $\\max(-u_x)$ is the amplitude, and $V = (4/5)^{1/2}\\mathcal{C}[\\max(-u_x)]^{1/4}$, Taking the amplitude of the solitary wave, `5e-6` m, according to the example simulation below, we can estimate $V$."
   ]
  },
  {
   "cell_type": "code",
   "execution_count": 20,
   "metadata": {
    "colab": {
     "base_uri": "https://localhost:8080/"
    },
    "executionInfo": {
     "elapsed": 114,
     "status": "ok",
     "timestamp": 1714019496886,
     "user": {
      "displayName": "Ivan Christov",
      "userId": "03286852141196977463"
     },
     "user_tz": 240
    },
    "id": "uWp6ADktDrN5",
    "outputId": "32ff7e72-6fce-41dd-9606-6d74d82c737b"
   },
   "outputs": [
    {
     "name": "stdout",
     "output_type": "stream",
     "text": [
      "192.278339039569\n"
     ]
    }
   ],
   "source": [
    "C = np.sqrt(2*a**3/(m*theta))\n",
    "V = np.sqrt(4/5)*C*(5e-6)**(1/4)\n",
    "print(V)"
   ]
  },
  {
   "cell_type": "markdown",
   "metadata": {
    "id": "qW5TI3eUEtNn"
   },
   "source": [
    "However, this is not quite accurate as we generate the solitary wave by an impact on the left end of the chain. So we should use Eq. (24), $V= \\sqrt{4/5} (2 \\theta F_m/a^2)^{1/6} \\mathcal{C}$, of Conte _et al._ based on the maxium force $F_m$ (and $\\Delta_0=0$)."
   ]
  },
  {
   "cell_type": "code",
   "execution_count": 5,
   "metadata": {
    "colab": {
     "base_uri": "https://localhost:8080/"
    },
    "executionInfo": {
     "elapsed": 3,
     "status": "ok",
     "timestamp": 1714019333133,
     "user": {
      "displayName": "Ivan Christov",
      "userId": "03286852141196977463"
     },
     "user_tz": 240
    },
    "id": "NwJlhNYlM8Cj",
    "outputId": "e4a818cc-0ad3-4c98-c443-913401aeb85f"
   },
   "outputs": [
    {
     "name": "stdout",
     "output_type": "stream",
     "text": [
      "663.4887546255898\n"
     ]
    }
   ],
   "source": [
    "Fm = 50 # from the force contour plot\n",
    "V = C*(4/5)**(1/2)*(2*theta*Fm/a**2)**(1/6)\n",
    "print(V)"
   ]
  },
  {
   "cell_type": "markdown",
   "metadata": {
    "id": "6BZE8up_DpJD"
   },
   "source": [
    "To plot the solitary wave's shape, we need a continuous domain, which I take to be $L=100a$ to ensure a continuum limit. I place the center of the wave at $x_0=L/2$."
   ]
  },
  {
   "cell_type": "code",
   "execution_count": 6,
   "metadata": {
    "colab": {
     "base_uri": "https://localhost:8080/",
     "height": 460
    },
    "executionInfo": {
     "elapsed": 1159,
     "status": "ok",
     "timestamp": 1714019334290,
     "user": {
      "displayName": "Ivan Christov",
      "userId": "03286852141196977463"
     },
     "user_tz": 240
    },
    "id": "AcSI-Wzjvuu-",
    "outputId": "b8765b39-f5a0-4775-f425-d73fe738c497"
   },
   "outputs": [
    {
     "data": {
      "image/png": "[encoded data removed]",
      "text/plain": [
       "<Figure size 640x480 with 1 Axes>"
      ]
     },
     "metadata": {},
     "output_type": "display_data"
    }
   ],
   "source": [
    "L = N*(2*a)\n",
    "xj = np.linspace(0,L,num=1000)\n",
    "uxj = soli_x(xj,0,L/2,V,C,a)\n",
    "\n",
    "fig, ax = plt.subplots()\n",
    "ax.plot(xj, uxj, color='blue', linewidth=2)\n",
    "#ax.set_ylim(-1.1,2.1)\n",
    "ax.set_ylabel('$-u_x$')\n",
    "ax.set_xlim(0,L)\n",
    "ax.set_xlabel('$x$');"
   ]
  },
  {
   "cell_type": "code",
   "execution_count": 7,
   "metadata": {
    "colab": {
     "base_uri": "https://localhost:8080/",
     "height": 37
    },
    "executionInfo": {
     "elapsed": 4,
     "status": "ok",
     "timestamp": 1714019334291,
     "user": {
      "displayName": "Ivan Christov",
      "userId": "03286852141196977463"
     },
     "user_tz": 240
    },
    "id": "ETiSTojf9k5q",
    "outputId": "2f97a340-9276-49ba-9d26-084267c25f38"
   },
   "outputs": [
    {
     "data": {
      "text/latex": [
       "$\\displaystyle 4.96729413289805$"
      ],
      "text/plain": [
       "4.967294132898051"
      ]
     },
     "execution_count": 7,
     "metadata": {},
     "output_type": "execute_result"
    }
   ],
   "source": [
    "# width of the solitary wave\n",
    "# as a multiple of paticle diameter\n",
    "2 * (np.pi/2*a*np.sqrt(10)) / (a*2)"
   ]
  },
  {
   "cell_type": "code",
   "execution_count": 8,
   "metadata": {
    "executionInfo": {
     "elapsed": 188,
     "status": "ok",
     "timestamp": 1714019334476,
     "user": {
      "displayName": "Ivan Christov",
      "userId": "03286852141196977463"
     },
     "user_tz": 240
    },
    "id": "p6izs1Gst_WI"
   },
   "outputs": [],
   "source": [
    "# TODO: implement u from u_x ..."
   ]
  },
  {
   "cell_type": "markdown",
   "metadata": {
    "id": "wHjsVzwtz8Cn"
   },
   "source": [
    "## The initial condition"
   ]
  },
  {
   "cell_type": "markdown",
   "metadata": {
    "id": "nr0m3kgJLKm9"
   },
   "source": [
    "The initial condition is zero displacements."
   ]
  },
  {
   "cell_type": "code",
   "execution_count": 9,
   "metadata": {
    "executionInfo": {
     "elapsed": 2,
     "status": "ok",
     "timestamp": 1714019334477,
     "user": {
      "displayName": "Ivan Christov",
      "userId": "03286852141196977463"
     },
     "user_tz": 240
    },
    "id": "7gNxgVk6Otkb"
   },
   "outputs": [],
   "source": [
    "# set an initial condition for displacement\n",
    "uic = np.zeros(N)"
   ]
  },
  {
   "cell_type": "markdown",
   "metadata": {
    "id": "xnT4N_jFLU9Q"
   },
   "source": [
    "Then, the chain is impacted on the left end (position $j=0$) at $t=0$. The impact occurs instanteneously here and generates an initial velocity of $\\approx 0.5$ m/s for the first particle. The remaining particles are at rest, initially."
   ]
  },
  {
   "cell_type": "code",
   "execution_count": 10,
   "metadata": {
    "executionInfo": {
     "elapsed": 2,
     "status": "ok",
     "timestamp": 1714019334477,
     "user": {
      "displayName": "Ivan Christov",
      "userId": "03286852141196977463"
     },
     "user_tz": 240
    },
    "id": "gtP2iRIxLVa5"
   },
   "outputs": [],
   "source": [
    "# set an initial condition for velocity\n",
    "vic = np.zeros(N)\n",
    "vic[0] = 0.5\n",
    "#vic[-1] = -0.5\n",
    "\n",
    "# concatenate the two ICs for later use as one vector\n",
    "uvic = np.concatenate((uic,vic))"
   ]
  },
  {
   "cell_type": "markdown",
   "metadata": {
    "id": "3dCXOuY57_-0"
   },
   "source": [
    "# Numerical solution"
   ]
  },
  {
   "cell_type": "markdown",
   "metadata": {
    "id": "RYLOhLzsBlvG"
   },
   "source": [
    "As usual, we rewrite the second-order problem as a first-order semi-discrete system:\n",
    "$$\\left\\{ \\begin{align}\\dot{u}_j &= v_j,\\\\ \\dot{v}_j &= \\frac{\\sqrt{a/2}}{2m\\theta}\\left\\{ [\\Delta_0 - (u_j - u_{j-1})]_+^{3/2} - [\\Delta_0 - (u_{j+1} - u_j)]_+^{3/2} \\right\\}, \\quad j=1,\\dots,N-2, \\end{align} \\right.$$\n",
    "\n",
    "In the above right-hand side, we have used the $[\\cdot]_+$ function,\n",
    "$$ [\\xi]_+ = \\begin{cases} \\xi, &\\xi>0,\\\\ 0, &\\text{else}, \\end{cases}$$\n",
    "to ensure that if particles lose contact, then they experience no force (and we don't plug in negative numbers into a fractional power...).\n",
    "\n",
    "The boundary condition at the left end is implemented as in Eq. (6) of [Theocharis _et al._](https://journals.aps.org/pre/pdf/10.1103/PhysRevE.82.056604). At the right end, we simply have an immovable wall.\n"
   ]
  },
  {
   "cell_type": "code",
   "execution_count": 11,
   "metadata": {
    "executionInfo": {
     "elapsed": 1,
     "status": "ok",
     "timestamp": 1714019334598,
     "user": {
      "displayName": "Ivan Christov",
      "userId": "03286852141196977463"
     },
     "user_tz": 240
    },
    "id": "dgbSbIn-BpaP"
   },
   "outputs": [],
   "source": [
    "# ODE system right-hand side\n",
    "def gran_chain(t,u):\n",
    "  F = np.empty(2*N)\n",
    "\n",
    "  # boundary nodes require special care\n",
    "  F[0] = u[N]\n",
    "  F[N-1] = u[2*N-1]\n",
    "  # the first sphere (j=0) has no overlaps (u[-1]=u[0]),\n",
    "  # but it is constrained to maintain the pre-compression force F0\n",
    "  F[N] = F0/m + rhs_coeff*( max(delta0-(u[0]-u[0]),0)**(3/2) \\\n",
    "                            - max(delta0-(u[1]-u[0]),0)**(3/2) )\n",
    "  # beyond the (N-1)st particle is a wall, it has 0 displacement,\n",
    "  # which ensures reflection of the pulse from this wall\n",
    "  F[2*N-1] = rhs_coeff*( max(delta0-(u[N-1]-u[N-2]),0)**(3/2) \\\n",
    "                         - max(delta0-(0-u[N-1]),0)**(3/2) )\n",
    "\n",
    "  # or, handle it like the first sphere,\n",
    "  # if we're 'hitting' the chain on both ends\n",
    "  #F[2*N-1] = rhs_coeff*( max(delta0-(u[N-1]-u[N-2]),0)**(3/2) \\\n",
    "  #                       - max(delta0-(u[N-1]-u[N-1]),0)**(3/2) ) - F0/m\n",
    "\n",
    "  # interior nodes, per the ODE formula\n",
    "  for j in range(1,N-1):\n",
    "    F[j]   = u[j+N]\n",
    "    F[j+N] = rhs_coeff*( max(delta0-(u[j]-u[j-1]),0)**(3/2) \\\n",
    "                          - max(delta0-(u[j+1]-u[j]),0)**(3/2) )\n",
    "  return F"
   ]
  },
  {
   "cell_type": "code",
   "execution_count": 12,
   "metadata": {
    "executionInfo": {
     "elapsed": 1,
     "status": "ok",
     "timestamp": 1714019334598,
     "user": {
      "displayName": "Ivan Christov",
      "userId": "03286852141196977463"
     },
     "user_tz": 240
    },
    "id": "SAcy95hDix56"
   },
   "outputs": [],
   "source": [
    "# total simulation (dimensional, in sec)\n",
    "tmax = 1.2e-3\n",
    "\n",
    "# try: test different tolerances for the integrator, changing reltol\n",
    "reltol = 1e-6"
   ]
  },
  {
   "cell_type": "markdown",
   "metadata": {
    "id": "Z9bXow19E9T5"
   },
   "source": [
    "We use SciPy's [`solve_ivp`](https://docs.scipy.org/doc/scipy/reference/generated/scipy.integrate.solve_ivp.html) to numerically integrate the system of $2N$ ODEs forward in time. In this field, people seem to use `RK45`, so do we."
   ]
  },
  {
   "cell_type": "code",
   "execution_count": 13,
   "metadata": {
    "executionInfo": {
     "elapsed": 1301,
     "status": "ok",
     "timestamp": 1714019335898,
     "user": {
      "displayName": "Ivan Christov",
      "userId": "03286852141196977463"
     },
     "user_tz": 240
    },
    "id": "PeXK73LTEt4v"
   },
   "outputs": [],
   "source": [
    "# find the time evolution of the particle displacements\n",
    "sol = solve_ivp(fun=gran_chain,\n",
    "                t_span=[0,tmax], y0=uvic,\n",
    "                method='RK45', rtol=reltol, dense_output=True)"
   ]
  },
  {
   "cell_type": "markdown",
   "metadata": {
    "id": "54XyhNc08HKR"
   },
   "source": [
    "# Results and visualization"
   ]
  },
  {
   "cell_type": "markdown",
   "metadata": {
    "id": "RkUCBh6x-Yu6"
   },
   "source": [
    "First, just a quick static plot of the solution at the final time."
   ]
  },
  {
   "cell_type": "code",
   "execution_count": 14,
   "metadata": {
    "colab": {
     "base_uri": "https://localhost:8080/",
     "height": 455
    },
    "executionInfo": {
     "elapsed": 2064,
     "status": "ok",
     "timestamp": 1714019337959,
     "user": {
      "displayName": "Ivan Christov",
      "userId": "03286852141196977463"
     },
     "user_tz": 240
    },
    "id": "xh-mA30ZWQOR",
    "outputId": "53f9168e-cd82-42fd-8f32-93659a5d7d9a"
   },
   "outputs": [
    {
     "data": {
      "image/png": "[encoded data removed]",
      "text/plain": [
       "<Figure size 700x400 with 2 Axes>"
      ]
     },
     "metadata": {},
     "output_type": "display_data"
    }
   ],
   "source": [
    "tplot = tmax/4\n",
    "xj = range(0,N)\n",
    "uj = sol.sol(tplot)[0:N]\n",
    "vj = sol.sol(tplot)[N:2*N]\n",
    "\n",
    "fig, ax1 = plt.subplots(figsize=(7,4))\n",
    "\n",
    "# displacements on the left axis\n",
    "ax1.plot(xj, uj, linewidth=1, marker='o', color='blue')\n",
    "ax1.set_ylabel('$u_j$', color='blue')\n",
    "ax1.set_xlabel('$j$')\n",
    "ax1.set_xlim(0,N-1)\n",
    "ax1.tick_params(axis='y', labelcolor='blue')\n",
    "\n",
    "# velocities on the right axis\n",
    "ax2 = ax1.twinx()\n",
    "ax2.plot(xj, vj, linewidth=1, marker='x', color='red')\n",
    "#ax2.set_ylim(-0.1,0.1)\n",
    "ax2.set_ylabel('$v_j$', color='red')\n",
    "ax2.tick_params(axis='y', labelcolor='red')\n",
    "\n",
    "ax1.set_title(f'$t=${tplot*1e6:.0f} μs');"
   ]
  },
  {
   "cell_type": "markdown",
   "metadata": {
    "id": "Ir2ZXsNzP4iq"
   },
   "source": [
    "## Space-time plot"
   ]
  },
  {
   "cell_type": "code",
   "execution_count": 21,
   "metadata": {
    "executionInfo": {
     "elapsed": 168,
     "status": "ok",
     "timestamp": 1714019528873,
     "user": {
      "displayName": "Ivan Christov",
      "userId": "03286852141196977463"
     },
     "user_tz": 240
    },
    "id": "ptLZS25I-DiO"
   },
   "outputs": [],
   "source": [
    "# define how to sample the solution in time\n",
    "tnum = N+1\n",
    "dt = (tmax-0)/(tnum-1)\n",
    "tspan = np.array(range(0,tnum))*dt"
   ]
  },
  {
   "cell_type": "code",
   "execution_count": 22,
   "metadata": {
    "colab": {
     "base_uri": "https://localhost:8080/",
     "height": 564
    },
    "executionInfo": {
     "elapsed": 1638,
     "status": "ok",
     "timestamp": 1714019531273,
     "user": {
      "displayName": "Ivan Christov",
      "userId": "03286852141196977463"
     },
     "user_tz": 240
    },
    "id": "QJdoRm4li_fs",
    "outputId": "4bf8fb9d-44fb-40f6-b743-400950a391a2"
   },
   "outputs": [
    {
     "data": {
      "image/png": "[encoded data removed]",
      "text/plain": [
       "<Figure size 1200x600 with 2 Axes>"
      ]
     },
     "metadata": {},
     "output_type": "display_data"
    }
   ],
   "source": [
    "# make a matrix of space-time values {u_j(t)}\n",
    "Fjp = np.empty((tnum,N))\n",
    "for it in range(0,tnum):\n",
    "  tmp = sol.sol(it*dt)\n",
    "  ajp = gran_chain(it*dt,tmp)[N:2*N]\n",
    "  Fjp[it,:] = m*ajp\n",
    "\n",
    "# make cool plot, try also cmap='RdGy'\n",
    "fig, ax = plt.subplots(figsize=(12, 6))\n",
    "plt.contourf(xj, tspan*1e6, Fjp, 100, cmap='seismic')\n",
    "plt.colorbar(label='$F_j$ (N)')\n",
    "ax.set_ylim(0,tmax*1e6)\n",
    "ax.set_ylabel('$t$ (μs)')\n",
    "ax.set_xlim(0,N-1)\n",
    "ax.set_xlabel('$j$');"
   ]
  },
  {
   "cell_type": "markdown",
   "metadata": {
    "id": "ylt_yYOLPU29"
   },
   "source": [
    "As a back-of-the-envelope check, from the contour plot, we estimate $V = (50 \\times 2 \\times 4 ~\\text{mm})/(620~μ\\text{s}) \\approx 645 ~\\text{m/s}$. While, from Eq. (24) of Conte _et al._, based on the continuum theory, we got $V\\approx 663$ m/s above. Not bad!"
   ]
  },
  {
   "cell_type": "markdown",
   "metadata": {
    "id": "-OTRyON6Oje4"
   },
   "source": [
    "## Animation"
   ]
  },
  {
   "cell_type": "markdown",
   "metadata": {
    "id": "oKIFmSb6fZUZ"
   },
   "source": [
    "Animation to show the solitary wave in the strain field $-u_j'$."
   ]
  },
  {
   "cell_type": "code",
   "execution_count": 17,
   "metadata": {
    "executionInfo": {
     "elapsed": 3,
     "status": "ok",
     "timestamp": 1714019339578,
     "user": {
      "displayName": "Ivan Christov",
      "userId": "03286852141196977463"
     },
     "user_tz": 240
    },
    "id": "HVsuGxFvBPP4"
   },
   "outputs": [],
   "source": [
    "# define how to sample the solution in time\n",
    "tnum = 200\n",
    "dt = (tmax-0)/(tnum-1)\n",
    "tspan = np.array(range(0,tnum))*dt"
   ]
  },
  {
   "cell_type": "code",
   "execution_count": 18,
   "metadata": {
    "colab": {
     "base_uri": "https://localhost:8080/",
     "height": 578,
     "output_embedded_package_id": "1rNc89ALMv0dm2otjq_mwtAVOdhH9WA3H"
    },
    "executionInfo": {
     "elapsed": 45351,
     "status": "ok",
     "timestamp": 1714019384927,
     "user": {
      "displayName": "Ivan Christov",
      "userId": "03286852141196977463"
     },
     "user_tz": 240
    },
    "id": "um6FsjzEHkpk",
    "outputId": "d32ad846-1e78-4564-c701-7e085ede035e"
   },
   "outputs": [
    {
     "data": {
      "text/plain": [
       "Output hidden; open in https://colab.research.google.com to view."
      ]
     },
     "metadata": {},
     "output_type": "display_data"
    }
   ],
   "source": [
    "# set up the figure and axes\n",
    "fig, ax = plt.subplots()\n",
    "ax.set_ylabel('$-u_j\\'$')\n",
    "ax.set_xlabel('$j$')\n",
    "ax.set_xlim(0,N-1)\n",
    "ax.set_ylim(-1e-5,1e-5)\n",
    "# nice dynamic label to show time\n",
    "ttl = ax.text(0.05, 0.925, '', size='large',\n",
    "              #bbox=dict(facecolor='none', edgecolor='black', boxstyle='round'),\n",
    "              transform=ax.transAxes, animated=True)\n",
    "# so axes labels aren't cut off\n",
    "plt.tight_layout()\n",
    "plt.close()\n",
    "\n",
    "# initialize plot objects with some dummy data (replaced in animation)\n",
    "ax.plot(xj, np.zeros(N), linestyle=\"dashed\", linewidth=1, color='black')\n",
    "line, = ax.plot(xj, np.zeros(N), color='blue', linewidth=1, marker='o')\n",
    "\n",
    "# animation function called sequentially by `FuncAnimation' below\n",
    "def animate(it):\n",
    "  uj = sol.sol(it*dt)[0:N]\n",
    "\n",
    "  uxj = np.empty(N)\n",
    "  uxj[0] = (uj[1] - 0)/(2*1)\n",
    "  uxj[1:N-1] = (uj[2:N] - uj[0:N-2])/(2*1)\n",
    "  uxj[N-1] = (0 - uj[N-2])/(2*1)\n",
    "\n",
    "  line.set_data(xj, -uxj)\n",
    "  ttl.set_text(f'$t=${it*dt*1e6:.0f} μs');\n",
    "\n",
    "  return (line, ttl, )\n",
    "\n",
    "framran = range(0,tnum)\n",
    "anim = animation.FuncAnimation(fig, animate, frames=framran,\n",
    "                               interval=100, blit=True)\n",
    "\n",
    "# this is necessary to get the animation to work on Google's Colab\n",
    "rc('animation', html='jshtml')\n",
    "anim"
   ]
  },
  {
   "cell_type": "code",
   "execution_count": 18,
   "metadata": {
    "executionInfo": {
     "elapsed": 1,
     "status": "ok",
     "timestamp": 1714019384927,
     "user": {
      "displayName": "Ivan Christov",
      "userId": "03286852141196977463"
     },
     "user_tz": 240
    },
    "id": "AKVp2JIZHVJW"
   },
   "outputs": [],
   "source": []
  }
 ],
 "metadata": {
  "colab": {
   "provenance": [
    {
     "file_id": "1W4pLBP7gfoS7F-_heTG5DUL6OhT6L5BU",
     "timestamp": 1711464433644
    },
    {
     "file_id": "1IFdj9Kz5ggcD5d3b84KxeynZyjPY2ts7",
     "timestamp": 1611203165380
    }
   ],
   "toc_visible": true
  },
  "kernelspec": {
   "display_name": "Python 3",
   "name": "python3"
  }
 },
 "nbformat": 4,
 "nbformat_minor": 0
}

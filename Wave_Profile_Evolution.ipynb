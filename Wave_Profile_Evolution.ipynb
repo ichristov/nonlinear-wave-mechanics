{
 "cells": [
  {
   "cell_type": "markdown",
   "metadata": {
    "id": "gJtrgDmfcZlx"
   },
   "source": [
    "# Learning objective\n",
    "\n",
    "This notebook illustrates how initial conditions evolve under different wave-related PDEs. In doing so, it is shown how different terms (linear vs. nonlinear advection and dissipation vs. dispersion) in such a PDE affect the shape evolution of wave profile."
   ]
  },
  {
   "cell_type": "markdown",
   "metadata": {
    "id": "21hNoidL2vnD"
   },
   "source": [
    "# Preliminaries"
   ]
  },
  {
   "cell_type": "code",
   "execution_count": 1,
   "metadata": {
    "executionInfo": {
     "elapsed": 2010,
     "status": "ok",
     "timestamp": 1714020220439,
     "user": {
      "displayName": "Ivan Christov",
      "userId": "03286852141196977463"
     },
     "user_tz": 240
    },
    "id": "MBp48ZTn2om4"
   },
   "outputs": [],
   "source": [
    "# interactive plots setup\n",
    "from ipywidgets import interact, interactive, fixed, interact_manual\n",
    "import ipywidgets as widgets\n",
    "\n",
    "# sympy setup\n",
    "import sympy as sp\n",
    "sp.init_printing()\n",
    "from sympy.vector import *\n",
    "\n",
    "# ploting customizations\n",
    "from matplotlib import pyplot as plt\n",
    "size=16\n",
    "params = {'legend.fontsize': 'large',\n",
    "#          'figure.figsize': (20,8),\n",
    "          'axes.labelsize': size,\n",
    "          'axes.titlesize': size,\n",
    "          'xtick.labelsize': size*0.875,\n",
    "          'ytick.labelsize': size*0.875,\n",
    "          'axes.titlepad': 25,\n",
    "          'animation.embed_limit': 2**128}\n",
    "plt.rcParams.update(params)\n",
    "%matplotlib inline\n",
    "from matplotlib import colormaps\n",
    "from mpl_toolkits.mplot3d import axes3d\n",
    "\n",
    "# for animations\n",
    "from matplotlib import animation, rc\n",
    "from IPython.display import HTML\n",
    "\n",
    "# numerics\n",
    "import numpy as np\n",
    "from scipy.integrate import solve_ivp\n",
    "from scipy import fft\n",
    "from scipy.interpolate import griddata\n",
    "\n",
    "# to save plots as files and download them\n",
    "#from google.colab import files"
   ]
  },
  {
   "cell_type": "markdown",
   "metadata": {
    "id": "TEW12XbEQh-S"
   },
   "source": [
    "## Credit\n",
    "\n",
    "Initial version written by [Ivan C. Christov](http://christov.tmnt-lab.org), Purdue University."
   ]
  },
  {
   "cell_type": "markdown",
   "metadata": {
    "id": "ueiwnZZ6UI1z"
   },
   "source": [
    "# Setup common to all equations"
   ]
  },
  {
   "cell_type": "markdown",
   "metadata": {
    "id": "ZfHywD-QULct"
   },
   "source": [
    "In all cases, we restrict themselves to the spatial interval $0 \\le x < x_\\mathrm{max} = 2$ with\n",
    "*   either periodic boundary conditions, $u(0,t)=u(x_\\mathrm{max},t)$ for every $t\\ge0$,\n",
    "*   or homogeneous Neumann boundary conditions, $\\partial u/\\partial x = 0$ at $x=0,x_\\mathrm{max}$ for every $t\\ge0$.\n",
    "\n"
   ]
  },
  {
   "cell_type": "code",
   "execution_count": 2,
   "metadata": {
    "executionInfo": {
     "elapsed": 5,
     "status": "ok",
     "timestamp": 1714020220440,
     "user": {
      "displayName": "Ivan Christov",
      "userId": "03286852141196977463"
     },
     "user_tz": 240
    },
    "id": "2GVWVfD2U90t"
   },
   "outputs": [],
   "source": [
    "# dispersion parameter for KdV-like u_xxx term, keep it small\n",
    "delta = 0.022\n",
    "\n",
    "# wave speed for linear wave eqs.\n",
    "cw = 1\n",
    "\n",
    "# spatial interval\n",
    "xmax = 2\n",
    "# number of grid points in discretization\n",
    "N = 200\n",
    "# grid spacing\n",
    "h = (xmax-0)/N\n",
    "\n",
    "# the grid\n",
    "# for periodic BC, we *must* exclude xmax (endpoint=False)\n",
    "# for Neumann BCs, we don't have to exclude xmax, but it's easier to do it the same way\n",
    "xj = np.linspace(0,xmax,num=N,endpoint=False)\n",
    "\n",
    "# maximum integration time is up to you\n",
    "# for my examples I make multiple of T_B=1/pi (see ZK65), why not?\n",
    "TB = 1/np.pi\n",
    "tmax = 10*TB\n",
    "\n",
    "# try: test different tolerances for the integrator, changing reltol\n",
    "reltol = 1e-6\n",
    "\n",
    "# the type of BC to implement in the numerics will be specified for each initial condition,\n",
    "# only 'Neumann' and 'periodic' allowed right now\n",
    "bc_type = ''"
   ]
  },
  {
   "cell_type": "markdown",
   "metadata": {
    "id": "wHjsVzwtz8Cn"
   },
   "source": [
    "# The initial and boundary conditions"
   ]
  },
  {
   "cell_type": "markdown",
   "metadata": {
    "id": "nfDcVrjd0Dpj"
   },
   "source": [
    "**Choice 1a**, the ZK65 cosine:\n",
    "$$ u(x,0) = \\cos(\\pi x). $$"
   ]
  },
  {
   "cell_type": "code",
   "execution_count": 3,
   "metadata": {
    "executionInfo": {
     "elapsed": 3,
     "status": "ok",
     "timestamp": 1714020220440,
     "user": {
      "displayName": "Ivan Christov",
      "userId": "03286852141196977463"
     },
     "user_tz": 240
    },
    "id": "7gNxgVk6Otkb"
   },
   "outputs": [],
   "source": [
    "uic = np.cos(np.pi*xj)\n",
    "\n",
    "bc_type = 'periodic'"
   ]
  },
  {
   "cell_type": "markdown",
   "metadata": {
    "id": "CZKhyuPJjmK-"
   },
   "source": [
    "**Choice 1b**, two periods of a sine:\n",
    "$$ u(x,0) = \\sin(2\\pi x). $$"
   ]
  },
  {
   "cell_type": "code",
   "execution_count": 4,
   "metadata": {
    "executionInfo": {
     "elapsed": 3,
     "status": "ok",
     "timestamp": 1714020220440,
     "user": {
      "displayName": "Ivan Christov",
      "userId": "03286852141196977463"
     },
     "user_tz": 240
    },
    "id": "0ABqgGQgjrgg"
   },
   "outputs": [],
   "source": [
    "uic = np.sin(2*np.pi*xj)\n",
    "\n",
    "bc_type = 'periodic'"
   ]
  },
  {
   "cell_type": "markdown",
   "metadata": {
    "id": "Pisa4E4J_6WL"
   },
   "source": [
    "**Choice 2**, a Gaussian pulse:\n",
    "$$ u(x,0) = e^{-3\\pi (x-1)^2}. $$"
   ]
  },
  {
   "cell_type": "code",
   "execution_count": 5,
   "metadata": {
    "executionInfo": {
     "elapsed": 3,
     "status": "ok",
     "timestamp": 1714020220582,
     "user": {
      "displayName": "Ivan Christov",
      "userId": "03286852141196977463"
     },
     "user_tz": 240
    },
    "id": "n8K4m3g6__dC"
   },
   "outputs": [],
   "source": [
    "uic = np.exp(-((xj-1)*3*np.pi)**2)\n",
    "\n",
    "bc_type = 'periodic'"
   ]
  },
  {
   "cell_type": "markdown",
   "metadata": {
    "id": "CxjamyCjXTHw"
   },
   "source": [
    "**Choice 3**, multiple wave numbers:\n",
    "$$ u(x,0) = \\cos(\\pi x) + \\sin(4\\pi x). $$"
   ]
  },
  {
   "cell_type": "code",
   "execution_count": 6,
   "metadata": {
    "executionInfo": {
     "elapsed": 2,
     "status": "ok",
     "timestamp": 1714020220582,
     "user": {
      "displayName": "Ivan Christov",
      "userId": "03286852141196977463"
     },
     "user_tz": 240
    },
    "id": "_UpZA9IbXTk6"
   },
   "outputs": [],
   "source": [
    "uic = np.cos(np.pi*xj) + np.sin(np.pi*xj*4)\n",
    "\n",
    "bc_type = 'periodic'"
   ]
  },
  {
   "cell_type": "markdown",
   "metadata": {
    "id": "d-k4s2f-O20Z"
   },
   "source": [
    "**Choice 4**, a kink-shaped 'diffusive soliton' (see Remoissenet, Sect. 11.1.3 with some change in notation):\n",
    "$$ u(x,0) = \\frac{u_+ + u_-}{2} + \\frac{u_+ - u_-}{2} \\tanh\\left(\\frac{|u_+ - u_-|}{4\\delta}(x-1)\\right)$$\n",
    "\n",
    "**Note**: this IC is not periodic, so its best to use \"[Neumann BCs](https://en.wikipedia.org/wiki/Neumann_boundary_condition)\", and most easily implemented as $u_{-1}=u_1$ and $u_{N}=u_{N-2}$). However, there's subtetlies about the stable implmentation of BCs, and also their physical meaning/effects, which are different for _each_ these equations. So, I would advise you to consider only time intervals over which the dynamics do not \"reach\" the boundaries, which can be achieved by taking shorter `tmax` or larger `xmax`."
   ]
  },
  {
   "cell_type": "code",
   "execution_count": 7,
   "metadata": {
    "executionInfo": {
     "elapsed": 2,
     "status": "ok",
     "timestamp": 1714020220582,
     "user": {
      "displayName": "Ivan Christov",
      "userId": "03286852141196977463"
     },
     "user_tz": 240
    },
    "id": "2m8P8bb3O3Xd"
   },
   "outputs": [],
   "source": [
    "up, um = -0.5, 1\n",
    "uic = (up+um)/2 + (up-um)/2 * np.tanh((xj-1)*np.abs(up-um)/4/delta)\n",
    "\n",
    "bc_type = 'Neumann'"
   ]
  },
  {
   "cell_type": "markdown",
   "metadata": {
    "id": "R0G0gY1O0Wpr"
   },
   "source": [
    "Whichever initial condition we chose, let's plot it."
   ]
  },
  {
   "cell_type": "code",
   "execution_count": 8,
   "metadata": {
    "colab": {
     "base_uri": "https://localhost:8080/",
     "height": 465
    },
    "executionInfo": {
     "elapsed": 996,
     "status": "ok",
     "timestamp": 1714020221576,
     "user": {
      "displayName": "Ivan Christov",
      "userId": "03286852141196977463"
     },
     "user_tz": 240
    },
    "id": "Ni86CoM18YDe",
    "outputId": "77c72756-f13c-4621-e61f-701aebb25afb"
   },
   "outputs": [
    {
     "data": {
      "image/png": "[encoded data removed]",
      "text/plain": [
       "<Figure size 640x480 with 1 Axes>"
      ]
     },
     "metadata": {},
     "output_type": "display_data"
    }
   ],
   "source": [
    "fig, ax = plt.subplots()\n",
    "ax.plot(xj, uic, color='blue', linewidth=2)\n",
    "ax.set_ylim(-2.03,2.03) # a common set of ylim that works for all examples\n",
    "ax.set_ylabel('$u$')\n",
    "ax.set_xlim(0,xmax)\n",
    "ax.set_xlabel('$x$')\n",
    "ttl = ax.text(0.825, 0.925, '$t=0$', size='large',\n",
    "              #bbox=dict(facecolor='none', edgecolor='black', boxstyle='round'),\n",
    "              transform=ax.transAxes, animated=True);"
   ]
  },
  {
   "cell_type": "markdown",
   "metadata": {
    "id": "3dCXOuY57_-0"
   },
   "source": [
    "# PDE\\#1: One-way wave equation"
   ]
  },
  {
   "cell_type": "markdown",
   "metadata": {
    "id": "RYLOhLzsBlvG"
   },
   "source": [
    "First example of wave profile evolution will be under the _one-way_ (first-order) linear wave equation:\n",
    "$$ u_t + c u_x = 0. $$"
   ]
  },
  {
   "cell_type": "markdown",
   "metadata": {
    "id": "ovRrKAzZV8gB"
   },
   "source": [
    "Using the [method of lines](https://reference.wolfram.com/language/tutorial/NDSolveMethodOfLines.html), we turn the PDE into a series of ODEs:\n",
    "$$\n",
    "  \\dot{u}_j = -c\\underbrace{\\left(\\frac{u_{j+1} - u_{j-1}}{2h}\\right)}_{\\approx u_x} ,\\quad j=1,\\dots,N-2.\n",
    "$$\n",
    "\n",
    "Here, $u_j(t) \\approx u(x_j,t)$ and $x_j = 0+jh$ with $h=(x_\\mathrm{max}-0)/N$ being the grid spacing. For periodic BCs, $u_0=u_{N-1}$ are the _same_ gridpoint, in which case $j=N-1$ is not included because. For other BCs, special care is taken at $j=0$ and $j=N-1$."
   ]
  },
  {
   "cell_type": "code",
   "execution_count": 9,
   "metadata": {
    "executionInfo": {
     "elapsed": 5,
     "status": "ok",
     "timestamp": 1714020221576,
     "user": {
      "displayName": "Ivan Christov",
      "userId": "03286852141196977463"
     },
     "user_tz": 240
    },
    "id": "dgbSbIn-BpaP"
   },
   "outputs": [],
   "source": [
    "# ODE system right-hand side\n",
    "def onewaywave(t,u):\n",
    "  F = np.empty(N)\n",
    "\n",
    "  # boundary nodes require special care to enforce BCs\n",
    "  if bc_type == 'periodic':\n",
    "    F[0] = -cw*(u[1] - u[N-1])/(2*h)\n",
    "    F[N-1] = -cw*(u[0] - u[N-2])/(2*h)\n",
    "  elif bc_type == 'Neumann':\n",
    "    F[0] = 0\n",
    "    # Neumann-ish to impose outgoing wave\n",
    "    # by backwards difference at the last grid point\n",
    "    F[N-1] = -cw*(u[N-1] - u[N-2])/h\n",
    "  else:\n",
    "    raise ValueError('Unknown BC type!')\n",
    "\n",
    "  # interior nodes, per the formula\n",
    "  for j in range(1,N-1):\n",
    "    F[j] = -cw*(u[j+1] - u[j-1])/(2*h)\n",
    "\n",
    "  return F"
   ]
  },
  {
   "cell_type": "code",
   "execution_count": 10,
   "metadata": {
    "executionInfo": {
     "elapsed": 722,
     "status": "ok",
     "timestamp": 1714020222294,
     "user": {
      "displayName": "Ivan Christov",
      "userId": "03286852141196977463"
     },
     "user_tz": 240
    },
    "id": "PeXK73LTEt4v"
   },
   "outputs": [],
   "source": [
    "# simulate the PDE\n",
    "sol1 = solve_ivp(fun=onewaywave,\n",
    "                 t_span=[0,tmax], y0=uic,\n",
    "                 method='RK45', rtol=reltol, dense_output=True)"
   ]
  },
  {
   "cell_type": "markdown",
   "metadata": {
    "id": "54XyhNc08HKR"
   },
   "source": [
    "## Plotting and dynamics"
   ]
  },
  {
   "cell_type": "markdown",
   "metadata": {
    "id": "miyDNC_CExkY"
   },
   "source": [
    "Next, we visualize our results using our snazzy animation tools."
   ]
  },
  {
   "cell_type": "code",
   "execution_count": 11,
   "metadata": {
    "colab": {
     "base_uri": "https://localhost:8080/",
     "height": 578,
     "output_embedded_package_id": "12u3ZozxYBcT0P7qDJ2lC8SWFIZ5u4M1K"
    },
    "executionInfo": {
     "elapsed": 33076,
     "status": "ok",
     "timestamp": 1714020255367,
     "user": {
      "displayName": "Ivan Christov",
      "userId": "03286852141196977463"
     },
     "user_tz": 240
    },
    "id": "um6FsjzEHkpk",
    "outputId": "634eb890-500a-486b-dbdc-679e137b1c72"
   },
   "outputs": [
    {
     "data": {
      "text/plain": [
       "Output hidden; open in https://colab.research.google.com to view."
      ]
     },
     "metadata": {},
     "output_type": "display_data"
    }
   ],
   "source": [
    "# can change the plotting range for the animation if you wish\n",
    "tplot = tmax\n",
    "# define how to sample the solution in time\n",
    "tnum = 100\n",
    "dt = (tplot-0)/(tnum-1)\n",
    "tspan = np.array(range(0,tnum))*dt\n",
    "\n",
    "# set up the figure and axes\n",
    "fig, ax = plt.subplots()\n",
    "ax.set_ylabel('$u$')\n",
    "ax.set_xlabel('$x$')\n",
    "ax.set_xlim(0,xmax)\n",
    "ax.set_ylim(-2.03,2.03)\n",
    "# nice dynamic label to show time\n",
    "ttl = ax.text(0.825, 0.925, '', size='large',\n",
    "              #bbox=dict(facecolor='none', edgecolor='black', boxstyle='round'),\n",
    "              transform=ax.transAxes, animated=True)\n",
    "# so axes labels aren't cut off\n",
    "plt.tight_layout()\n",
    "plt.close()\n",
    "\n",
    "# initialize plot objects with some dummy data (replaced in animation)\n",
    "line, = ax.plot(xj, 0*xj, color='blue', linewidth=2)\n",
    "\n",
    "# animation function called sequentially by `FuncAnimation' below\n",
    "def animate(it):\n",
    "  uj = sol1.sol(it*dt)\n",
    "  line.set_data(xj, uj)\n",
    "  ttl.set_text(f'$t={it*dt:.3f}$')\n",
    "\n",
    "  return (line, ttl, )\n",
    "\n",
    "framran = range(0,tnum)\n",
    "anim = animation.FuncAnimation(fig, animate, frames=framran,\n",
    "                               interval=100, blit=True)\n",
    "\n",
    "# this is necessary to get the animation to work on Google's Colab\n",
    "rc('animation', html='jshtml')\n",
    "anim"
   ]
  },
  {
   "cell_type": "markdown",
   "metadata": {
    "id": "7L6Xsl6XIeU6"
   },
   "source": [
    "# PDE\\#2: Two-way wave equation"
   ]
  },
  {
   "cell_type": "markdown",
   "metadata": {
    "id": "WR8BtPhPJlok"
   },
   "source": [
    "Second example of wave profile evolution will be under the _two-way_ (second-order) linear wave equation:\n",
    "$$ u_{tt} - c^2 u_{xx} = 0. $$\n",
    "As with the mass-and-spring chain, we will have to write the second-order-in-time PDE as an equivalent first-order _system_:\n",
    "$$\n",
    "  \\left\\{ \\begin{align} u_{t} &= v,\\\\ v_t &= c^2 u_{xx}, \\end{align} \\right.\n",
    "$$\n",
    "which we discretize as usual by the method of lines:\n",
    "$$\n",
    "  \\left\\{ \\begin{align} \\dot{u}_j &= v_j,\\\\ \\dot{v}_j &= \\underbrace{\\left(\\frac{u_{j+1} - 2u_j + u_{j-1}}{h^2}\\right)}_{\\approx u_{xx}} - u_j. \\end{align} \\right.\n",
    "$$\n"
   ]
  },
  {
   "cell_type": "code",
   "execution_count": 12,
   "metadata": {
    "executionInfo": {
     "elapsed": 10,
     "status": "ok",
     "timestamp": 1714020255367,
     "user": {
      "displayName": "Ivan Christov",
      "userId": "03286852141196977463"
     },
     "user_tz": 240
    },
    "id": "zsZ5whpCJ65Z"
   },
   "outputs": [],
   "source": [
    "# ODE system right-hand side\n",
    "def twowaywave(t,u):\n",
    "  F = np.empty(2*N)\n",
    "\n",
    "  # boundary nodes require special care to enforce BCs\n",
    "  if bc_type == 'periodic':\n",
    "    F[0] = u[N]\n",
    "    F[N-1] = u[2*N-1]\n",
    "    F[N] = cw**2 * (u[1] - 2*u[0] + u[N-1])/h**2\n",
    "    F[2*N-1] = cw**2 * (u[0] - 2*u[N-1] + u[N-2])/h**2\n",
    "  elif bc_type == 'Neumann':\n",
    "    F[0] = 0\n",
    "    F[N-1] = 0\n",
    "    F[N] = cw**2 * (u[1] - 2*u[0] + u[1])/h**2\n",
    "    F[2*N-1] = cw**2 * (u[N-2] - 2*u[N-1] + u[N-2])/h**2\n",
    "  else:\n",
    "    raise ValueError('Unknown BC type!')\n",
    "\n",
    "  # interior nodes, per the ODE formula\n",
    "  for j in range(1,N-1):\n",
    "    F[j]   = u[j+N]\n",
    "    F[j+N] = cw**2 * (u[j+1] - 2*u[j] + u[j-1])/h**2\n",
    "\n",
    "  return F"
   ]
  },
  {
   "cell_type": "code",
   "execution_count": 13,
   "metadata": {
    "executionInfo": {
     "elapsed": 10,
     "status": "ok",
     "timestamp": 1714020255367,
     "user": {
      "displayName": "Ivan Christov",
      "userId": "03286852141196977463"
     },
     "user_tz": 240
    },
    "id": "XPX90m2pLK2z"
   },
   "outputs": [],
   "source": [
    "# add second IC of zero velocity for this PDE\n",
    "uvic = np.concatenate((uic,np.zeros(len(uic))))"
   ]
  },
  {
   "cell_type": "code",
   "execution_count": 14,
   "metadata": {
    "executionInfo": {
     "elapsed": 165,
     "status": "ok",
     "timestamp": 1714020255522,
     "user": {
      "displayName": "Ivan Christov",
      "userId": "03286852141196977463"
     },
     "user_tz": 240
    },
    "id": "jSTtR6sTJ6tz"
   },
   "outputs": [],
   "source": [
    "# simulate the PDE\n",
    "sol2 = solve_ivp(fun=twowaywave,\n",
    "                 t_span=[0,tmax], y0=uvic,\n",
    "                 method='RK45', rtol=reltol, dense_output=True)"
   ]
  },
  {
   "cell_type": "markdown",
   "metadata": {
    "id": "geQWMylgIhYe"
   },
   "source": [
    "## Plotting and dynamics"
   ]
  },
  {
   "cell_type": "code",
   "execution_count": 15,
   "metadata": {
    "colab": {
     "base_uri": "https://localhost:8080/",
     "height": 578,
     "output_embedded_package_id": "1esu_5dYwiYGfPg2xBlOWGYZn2wNIKTSA"
    },
    "executionInfo": {
     "elapsed": 10991,
     "status": "ok",
     "timestamp": 1714020266511,
     "user": {
      "displayName": "Ivan Christov",
      "userId": "03286852141196977463"
     },
     "user_tz": 240
    },
    "id": "GVuD1FRzKq6N",
    "outputId": "3b26aa51-4e3b-4935-8188-2648e008fc28"
   },
   "outputs": [
    {
     "data": {
      "text/plain": [
       "Output hidden; open in https://colab.research.google.com to view."
      ]
     },
     "metadata": {},
     "output_type": "display_data"
    }
   ],
   "source": [
    "# can change the plotting range for the animation if you wish\n",
    "tplot = tmax\n",
    "# define how to sample the solution in time\n",
    "tnum = 100\n",
    "dt = (tplot-0)/(tnum-1)\n",
    "tspan = np.array(range(0,tnum))*dt\n",
    "\n",
    "# set up the figure and axes\n",
    "fig, ax = plt.subplots()\n",
    "ax.set_ylabel('$u$')\n",
    "ax.set_xlabel('$x$')\n",
    "ax.set_xlim(0,xmax)\n",
    "ax.set_ylim(-2.03,2.03)\n",
    "# nice dynamic label to show time\n",
    "ttl = ax.text(0.825, 0.925, '', size='large',\n",
    "              #bbox=dict(facecolor='none', edgecolor='black', boxstyle='round'),\n",
    "              transform=ax.transAxes, animated=True)\n",
    "# so axes labels aren't cut off\n",
    "plt.tight_layout()\n",
    "plt.close()\n",
    "\n",
    "# initialize plot objects with some dummy data (replaced in animation)\n",
    "line, = ax.plot(xj, 0*xj, color='blue', linewidth=2)\n",
    "\n",
    "# animation function called sequentially by `FuncAnimation' below\n",
    "def animate(it):\n",
    "  uj = sol2.sol(it*dt)[0:N]\n",
    "  line.set_data(xj, uj)\n",
    "  ttl.set_text(f'$t={it*dt:.3f}$')\n",
    "\n",
    "  return (line, ttl, )\n",
    "\n",
    "framran = range(0,tnum)\n",
    "anim = animation.FuncAnimation(fig, animate, frames=framran,\n",
    "                               interval=100, blit=True)\n",
    "\n",
    "# this is necessary to get the animation to work on Google's Colab\n",
    "rc('animation', html='jshtml')\n",
    "anim"
   ]
  },
  {
   "cell_type": "markdown",
   "metadata": {
    "id": "nnG3vZRODnPE"
   },
   "source": [
    "# PDE#3: One-way wave equation with dispersion"
   ]
  },
  {
   "cell_type": "markdown",
   "metadata": {
    "id": "uGz1IMitDrtC"
   },
   "source": [
    "Third example of wave profile evolution will be under the one-way linear wave equation _with dispersion_ (linerized KdV in the stationary frame):\n",
    "$$\n",
    "  u_t + c u_x + \\delta^2 u_{xxx} = 0,\n",
    "$$\n",
    "which we discretize by the method of lines as:\n",
    "$$\n",
    "  \\dot{u}_j = -c\\underbrace{\\left(\\frac{u_{j+1} - u_{j-1}}{2h}\\right)}_{\\approx u_x} - \\delta^2\\underbrace{\\left(\\frac{u_{j+2} - 2u_{j+1} + 2u_{j-1} - u_{j-2}}{2h^3}\\right)}_{\\approx u_{xxx}}.\n",
    "$$"
   ]
  },
  {
   "cell_type": "code",
   "execution_count": 16,
   "metadata": {
    "executionInfo": {
     "elapsed": 15,
     "status": "ok",
     "timestamp": 1714020266511,
     "user": {
      "displayName": "Ivan Christov",
      "userId": "03286852141196977463"
     },
     "user_tz": 240
    },
    "id": "sML8_1f0ECiG"
   },
   "outputs": [],
   "source": [
    "# ODE system right-hand side\n",
    "def onewaydispwave(t,u):\n",
    "  F = np.empty(N)\n",
    "\n",
    "  # boundary nodes require special care to enforce BCs\n",
    "  if bc_type == 'periodic':\n",
    "    F[0] = -cw * (u[1] - u[N-1])/(2*h) \\\n",
    "          -delta**2*(u[2] - 2*u[1] + 2*u[N-1] - u[N-2])/(2*h**3)\n",
    "    F[1] = -cw * (u[2] - u[0])/(2*h) \\\n",
    "          -delta**2*(u[3] - 2*u[2] + 2*u[0] - u[N-1])/(2*h**3)\n",
    "    F[N-2] = -cw * (u[N-1] - u[N-3])/(2*h) \\\n",
    "              -delta**2*(u[0] - 2*u[N-1] + 2*u[N-3] - u[N-4])/(2*h**3)\n",
    "    F[N-1] = -cw * (u[0] - u[N-2])/(2*h) \\\n",
    "              -delta**2*(u[1] - 2*u[0] + 2*u[N-2] - u[N-3])/(2*h**3)\n",
    "  elif bc_type == 'Neumann':\n",
    "    F[0] = 0\n",
    "    F[1] = 0\n",
    "    F[N-2] = 0\n",
    "    F[N-1] = 0\n",
    "  else:\n",
    "    raise ValueError('Unknown BC type!')\n",
    "\n",
    "  # interior nodes, per the formula\n",
    "  for j in range(2,N-2):\n",
    "    F[j] = -cw * (u[j+1] - u[j-1])/(2*h) \\\n",
    "           -delta**2*(u[j+2] - 2*u[j+1] + 2*u[j-1] - u[j-2])/(2*h**3)\n",
    "\n",
    "  return F"
   ]
  },
  {
   "cell_type": "code",
   "execution_count": 17,
   "metadata": {
    "executionInfo": {
     "elapsed": 815,
     "status": "ok",
     "timestamp": 1714020267312,
     "user": {
      "displayName": "Ivan Christov",
      "userId": "03286852141196977463"
     },
     "user_tz": 240
    },
    "id": "Xp8ztjzdEYda"
   },
   "outputs": [],
   "source": [
    "# simulate the PDE\n",
    "sol3 = solve_ivp(fun=onewaydispwave,\n",
    "                 t_span=[0,tmax], y0=uic,\n",
    "                 method='Radau', rtol=reltol, dense_output=True)"
   ]
  },
  {
   "cell_type": "markdown",
   "metadata": {
    "id": "LCtmU5HSEfXi"
   },
   "source": [
    "## Plotting and dynamics"
   ]
  },
  {
   "cell_type": "code",
   "execution_count": 18,
   "metadata": {
    "colab": {
     "base_uri": "https://localhost:8080/",
     "height": 578,
     "output_embedded_package_id": "1x0taOaDlj68_R_1_7aJIk4PSsRi1Zufk"
    },
    "executionInfo": {
     "elapsed": 14954,
     "status": "ok",
     "timestamp": 1714020282263,
     "user": {
      "displayName": "Ivan Christov",
      "userId": "03286852141196977463"
     },
     "user_tz": 240
    },
    "id": "S_4O2VJ2EkIp",
    "outputId": "35bb8df1-2e8e-47a1-9cc0-af6c421b9f7a"
   },
   "outputs": [
    {
     "data": {
      "text/plain": [
       "Output hidden; open in https://colab.research.google.com to view."
      ]
     },
     "metadata": {},
     "output_type": "display_data"
    }
   ],
   "source": [
    "# can change the plotting range for the animation if you wish\n",
    "tplot = tmax\n",
    "# define how to sample the solution in time\n",
    "tnum = 100\n",
    "dt = (tplot-0)/(tnum-1)\n",
    "tspan = np.array(range(0,tnum))*dt\n",
    "\n",
    "# set up the figure and axes\n",
    "fig, ax = plt.subplots()\n",
    "ax.set_ylabel('$u$')\n",
    "ax.set_xlabel('$x$')\n",
    "ax.set_xlim(0,xmax)\n",
    "ax.set_ylim(-2.03,2.03)\n",
    "# nice dynamic label to show time\n",
    "ttl = ax.text(0.825, 0.925, '', size='large',\n",
    "              #bbox=dict(facecolor='none', edgecolor='black', boxstyle='round'),\n",
    "              transform=ax.transAxes, animated=True)\n",
    "# so axes labels aren't cut off\n",
    "plt.tight_layout()\n",
    "plt.close()\n",
    "\n",
    "# initialize plot objects with some dummy data (replaced in animation)\n",
    "line, = ax.plot(xj, 0*xj, color='blue', linewidth=2)\n",
    "\n",
    "# animation function called sequentially by `FuncAnimation' below\n",
    "def animate(it):\n",
    "  uj = sol3.sol(it*dt)\n",
    "  line.set_data(xj, uj)\n",
    "  ttl.set_text(f'$t={it*dt:.3f}$')\n",
    "\n",
    "  return (line, ttl, )\n",
    "\n",
    "framran = range(0,tnum)\n",
    "anim = animation.FuncAnimation(fig, animate, frames=framran,\n",
    "                               interval=100, blit=True)\n",
    "\n",
    "# this is necessary to get the animation to work on Google's Colab\n",
    "rc('animation', html='jshtml')\n",
    "anim"
   ]
  },
  {
   "cell_type": "markdown",
   "metadata": {
    "id": "yioLYg_zE-s_"
   },
   "source": [
    "# PDE\\#4: One-way nonlinear wave equation"
   ]
  },
  {
   "cell_type": "markdown",
   "metadata": {
    "id": "k-7IWm2GFCes"
   },
   "source": [
    "Fourth example of wave profile evolution will be under a one-way _nonlinear_ wave equation:\n",
    "$$ u_t + u u_x = 0. $$\n",
    "The key point is that now $c=u$ (_not a constant_) leading to the nonlinear product $uu_x$ in the PDE. This simple-looking PDE is called the [_inviscid Burgers equation_](https://en.wikipedia.org/wiki/Burgers%27_equation).\n",
    "\n",
    "We discretize this PDE by the method of lines as:\n",
    "$$\n",
    "  \\dot{u}_j = -u_j\\underbrace{\\left(\\frac{u_{j+1} - u_{j-1}}{2h}\\right)}_{\\approx u_x}.\n",
    "$$"
   ]
  },
  {
   "cell_type": "code",
   "execution_count": 19,
   "metadata": {
    "executionInfo": {
     "elapsed": 3,
     "status": "ok",
     "timestamp": 1714020282264,
     "user": {
      "displayName": "Ivan Christov",
      "userId": "03286852141196977463"
     },
     "user_tz": 240
    },
    "id": "8b0OoBvIFafC"
   },
   "outputs": [],
   "source": [
    "# ODE system right-hand side\n",
    "def iburgers(t,u):\n",
    "  F = np.empty(N)\n",
    "\n",
    "  # boundary nodes require special care to enforce BCs\n",
    "  if bc_type == 'periodic':\n",
    "    F[0] = -u[0] * (u[1] - u[N-1])/(2*h)\n",
    "    F[N-1] = -u[N-1] * (u[0] - u[N-2])/(2*h)\n",
    "  elif bc_type == 'Neumann':\n",
    "    F[0] = 0\n",
    "    F[N-1] = 0\n",
    "  else:\n",
    "    raise ValueError('Unknown BC type!')\n",
    "\n",
    "  # interior nodes, per the formula\n",
    "  for j in range(1,N-1):\n",
    "    F[j] = - u[j] * (u[j+1] - u[j-1])/(2*h)\n",
    "    #       + 0.1*h * (u[j+1] - 2*u[j] + u[j-1])/h**2\n",
    "    # you could try to add some 'fake' diffusion ~ h, to stabilize the scheme\n",
    "\n",
    "  return F"
   ]
  },
  {
   "cell_type": "code",
   "execution_count": 20,
   "metadata": {
    "executionInfo": {
     "elapsed": 3,
     "status": "ok",
     "timestamp": 1714020282264,
     "user": {
      "displayName": "Ivan Christov",
      "userId": "03286852141196977463"
     },
     "user_tz": 240
    },
    "id": "yBztZaU-Gedg"
   },
   "outputs": [],
   "source": [
    "# simulate the PDE\n",
    "sol4 = solve_ivp(fun=iburgers,\n",
    "                 t_span=[0,tmax], y0=uic,\n",
    "                 method='RK45', rtol=reltol, dense_output=True)"
   ]
  },
  {
   "cell_type": "markdown",
   "metadata": {
    "id": "6345igqEGinV"
   },
   "source": [
    "## Plotting and dynamics"
   ]
  },
  {
   "cell_type": "code",
   "execution_count": 21,
   "metadata": {
    "colab": {
     "base_uri": "https://localhost:8080/",
     "height": 578,
     "output_embedded_package_id": "1hBq_JWkpr-7smS7uvfq_Jk098T7TDphb"
    },
    "executionInfo": {
     "elapsed": 8631,
     "status": "ok",
     "timestamp": 1714020290892,
     "user": {
      "displayName": "Ivan Christov",
      "userId": "03286852141196977463"
     },
     "user_tz": 240
    },
    "id": "mafvMssUGh0G",
    "outputId": "7e2008b8-ef0e-44f7-a281-2ab5521bd62d"
   },
   "outputs": [
    {
     "data": {
      "text/plain": [
       "Output hidden; open in https://colab.research.google.com to view."
      ]
     },
     "metadata": {},
     "output_type": "display_data"
    }
   ],
   "source": [
    "# can change the plotting range for the animation if you wish\n",
    "tplot = 1.1*TB\n",
    "# define how to sample the solution in time\n",
    "tnum = 100\n",
    "dt = (tplot-0)/(tnum-1)\n",
    "tspan = np.array(range(0,tnum))*dt\n",
    "\n",
    "# set up the figure and axes\n",
    "fig, ax = plt.subplots()\n",
    "ax.set_ylabel('$u$')\n",
    "ax.set_xlabel('$x$')\n",
    "ax.set_xlim(0,xmax)\n",
    "ax.set_ylim(-2.03,2.03)\n",
    "# nice dynamic label to show time\n",
    "ttl = ax.text(0.825, 0.925, '', size='large',\n",
    "              #bbox=dict(facecolor='none', edgecolor='black', boxstyle='round'),\n",
    "              transform=ax.transAxes, animated=True)\n",
    "# so axes labels aren't cut off\n",
    "plt.tight_layout()\n",
    "plt.close()\n",
    "\n",
    "# initialize plot objects with some dummy data (replaced in animation)\n",
    "line, = ax.plot(xj, 0*xj, color='blue', linewidth=2)\n",
    "\n",
    "# animation function called sequentially by `FuncAnimation' below\n",
    "def animate(it):\n",
    "  uj = sol4.sol(it*dt)\n",
    "  line.set_data(xj, uj)\n",
    "  ttl.set_text(f'$t={it*dt:.3f}$')\n",
    "\n",
    "  return (line, ttl, )\n",
    "\n",
    "framran = range(0,tnum)\n",
    "anim = animation.FuncAnimation(fig, animate, frames=framran,\n",
    "                               interval=100, blit=True)\n",
    "\n",
    "# this is necessary to get the animation to work on Google's Colab\n",
    "rc('animation', html='jshtml')\n",
    "anim"
   ]
  },
  {
   "cell_type": "markdown",
   "metadata": {
    "id": "rGcZ1qYvo8_4"
   },
   "source": [
    "# PDE\\#5: One-way nonlinear wave equation with dissipation"
   ]
  },
  {
   "cell_type": "markdown",
   "metadata": {
    "id": "JCD0Pwi4o8_5"
   },
   "source": [
    "Fifth example of wave profile evolution will be under a one-way _nonlinear_ wave equation with dissipation in the form of diffusion:\n",
    "$$ u_t + u u_x = \\delta u_{xx}. $$\n",
    "Unlike PDE#4, this one keeps the $u_{xx}$ (diffusion) term on the right-hand side, which is actually the original [Burgers equation](https://en.wikipedia.org/wiki/Burgers%27_equation).\n",
    "\n",
    "We discretize this PDE by the method of lines as:\n",
    "$$\n",
    "  \\dot{u}_j = - u_j \\underbrace{\\left(\\frac{u_{j+1} - u_{j-1}}{2h}\\right)}_{\\approx u_x} + \\delta\\underbrace{\\left(\\frac{u_{j+1} - 2u_j + u_{j-1}}{h^2}\\right)}_{\\approx u_{xx}}.\n",
    "$$"
   ]
  },
  {
   "cell_type": "code",
   "execution_count": 22,
   "metadata": {
    "executionInfo": {
     "elapsed": 2,
     "status": "ok",
     "timestamp": 1714020290892,
     "user": {
      "displayName": "Ivan Christov",
      "userId": "03286852141196977463"
     },
     "user_tz": 240
    },
    "id": "fqMYxZ-Lo8_6"
   },
   "outputs": [],
   "source": [
    "# ODE system right-hand side\n",
    "def burgers(t,u):\n",
    "  F = np.empty(N)\n",
    "\n",
    "  # boundary nodes require special care to enforce BCs\n",
    "  if bc_type == 'periodic':\n",
    "    F[0] = -u[0] * (u[1] - u[N-1])/(2*h) \\\n",
    "          + delta * (u[1] - 2*u[0] + u[N-1])/h**2\n",
    "    F[N-1] = -u[N-1] * (u[0] - u[N-2])/(2*h) \\\n",
    "            + delta * (u[0] - 2*u[N-1] + u[N-2])/h**2\n",
    "  elif bc_type == 'Neumann':\n",
    "    F[0] = 0 + delta * (u[1] - 2*u[0] + u[1])/h**2\n",
    "    F[N-1] = 0 + delta * (u[N-2] - 2*u[N-1] + u[N-2])/h**2\n",
    "  else:\n",
    "    raise ValueError('Unknown BC type!')\n",
    "\n",
    "  # interior nodes, per the formula\n",
    "  for j in range(1,N-1):\n",
    "    F[j] = -u[j] * (u[j+1] - u[j-1])/(2*h) \\\n",
    "           + delta * (u[j+1] - 2*u[j] + u[j-1])/h**2\n",
    "\n",
    "  return F"
   ]
  },
  {
   "cell_type": "code",
   "execution_count": 23,
   "metadata": {
    "executionInfo": {
     "elapsed": 285,
     "status": "ok",
     "timestamp": 1714020291175,
     "user": {
      "displayName": "Ivan Christov",
      "userId": "03286852141196977463"
     },
     "user_tz": 240
    },
    "id": "P9cVmczDo8_7"
   },
   "outputs": [],
   "source": [
    "# simulate the PDE\n",
    "sol5 = solve_ivp(fun=burgers,\n",
    "                 t_span=[0,tmax], y0=uic,\n",
    "                 method='RK45', rtol=reltol, dense_output=True)"
   ]
  },
  {
   "cell_type": "markdown",
   "metadata": {
    "id": "gDT-HT7no8_8"
   },
   "source": [
    "## Plotting and dynamics"
   ]
  },
  {
   "cell_type": "code",
   "execution_count": 24,
   "metadata": {
    "colab": {
     "base_uri": "https://localhost:8080/",
     "height": 578,
     "output_embedded_package_id": "1k36yZyUBRy-yYugE6aU9os1cDDP98kH2"
    },
    "executionInfo": {
     "elapsed": 12085,
     "status": "ok",
     "timestamp": 1714020303259,
     "user": {
      "displayName": "Ivan Christov",
      "userId": "03286852141196977463"
     },
     "user_tz": 240
    },
    "id": "G9A-tFbdo8_8",
    "outputId": "2d3ae8a2-4864-4719-dc36-7388d024206d"
   },
   "outputs": [
    {
     "data": {
      "text/plain": [
       "Output hidden; open in https://colab.research.google.com to view."
      ]
     },
     "metadata": {},
     "output_type": "display_data"
    }
   ],
   "source": [
    "# can change the plotting range for the animation if you wish\n",
    "tplot = tmax\n",
    "# define how to sample the solution in time\n",
    "tnum = 100\n",
    "dt = (tmax-0)/(tnum-1)\n",
    "tspan = np.array(range(0,tnum))*dt\n",
    "\n",
    "# set up the figure and axes\n",
    "fig, ax = plt.subplots()\n",
    "ax.set_ylabel('$u$')\n",
    "ax.set_xlabel('$x$')\n",
    "ax.set_xlim(0,xmax)\n",
    "ax.set_ylim(-2.03,2.03)\n",
    "# nice dynamic label to show time\n",
    "ttl = ax.text(0.825, 0.925, '', size='large',\n",
    "              #bbox=dict(facecolor='none', edgecolor='black', boxstyle='round'),\n",
    "              transform=ax.transAxes, animated=True)\n",
    "# so axes labels aren't cut off\n",
    "plt.tight_layout()\n",
    "plt.close()\n",
    "\n",
    "# initialize plot objects with some dummy data (replaced in animation)\n",
    "line, = ax.plot(xj, 0*xj, color='blue', linewidth=2)\n",
    "\n",
    "# animation function called sequentially by `FuncAnimation' below\n",
    "def animate(it):\n",
    "  uj = sol5.sol(it*dt)\n",
    "  line.set_data(xj, uj)\n",
    "  ttl.set_text(f'$t={it*dt:.3f}$')\n",
    "\n",
    "  return (line, ttl, )\n",
    "\n",
    "framran = range(0,tnum)\n",
    "anim = animation.FuncAnimation(fig, animate, frames=framran,\n",
    "                               interval=100, blit=True)\n",
    "\n",
    "# this is necessary to get the animation to work on Google's Colab\n",
    "rc('animation', html='jshtml')\n",
    "anim"
   ]
  },
  {
   "cell_type": "markdown",
   "metadata": {
    "id": "RUy6BgWBZ5ea"
   },
   "source": [
    "# PDE#6: One-way nonlinear wave equation with dissipation and dispersion"
   ]
  },
  {
   "cell_type": "markdown",
   "metadata": {
    "id": "Ke-2y3yHaE3E"
   },
   "source": [
    "Sixth example of wave profile evolution will be under a one-way _nonlinear_ wave equation with dissipation (in the form of diffusion) and dispersion:\n",
    "$$ u_t + u u_x = \\delta u_{xx} - \\delta^2 u_{xxx}. $$\n",
    "This PDE#5 with a KdV-type dispersion term, it was derived by [van Wijngaarden](https://www.annualreviews.org/doi/10.1146/annurev.fl.04.010172.002101) to describe weakly nonlinear acoustic waves in bubbly fluids.\n",
    "\n",
    "We discretize this PDE by the method of lines as:\n",
    "$$\n",
    "  \\dot{u}_j = - u_j \\underbrace{\\left(\\frac{u_{j+1} - u_{j-1}}{2h}\\right)}_{\\approx u_x} + \\delta\\underbrace{\\left(\\frac{u_{j+1} - 2u_j + u_{j-1}}{h^2}\\right)}_{\\approx u_{xx}} - \\delta^2\\underbrace{\\left(\\frac{u_{j+2} - 2u_{j+1} + 2u_{j-1} - u_{j-2}}{2h^3}\\right)}_{\\approx u_{xxx}}.\n",
    "$$"
   ]
  },
  {
   "cell_type": "code",
   "execution_count": 25,
   "metadata": {
    "executionInfo": {
     "elapsed": 3,
     "status": "ok",
     "timestamp": 1714020303259,
     "user": {
      "displayName": "Ivan Christov",
      "userId": "03286852141196977463"
     },
     "user_tz": 240
    },
    "id": "BRW22mUkahtf"
   },
   "outputs": [],
   "source": [
    "# ODE system right-hand side\n",
    "def vanwij(t,u):\n",
    "  F = np.empty(N)\n",
    "\n",
    "  # boundary nodes require special care to enforce BCs\n",
    "  if bc_type == 'periodic':\n",
    "    F[0] = -u[0] * (u[1] - u[N-1])/(2*h) \\\n",
    "          + delta * (u[1] - 2*u[0] + u[N-1])/h**2 \\\n",
    "          - delta**2 * (u[2] - 2*u[1] + 2*u[N-1] - u[N-2])/(2*h**3)\n",
    "    F[1] = -u[1] * (u[2] - u[0])/(2*h) \\\n",
    "          + delta * (u[2] - 2*u[1] + u[0])/h**2 \\\n",
    "          - delta**2 * (u[3] - 2*u[2] + 2*u[0] - u[N-1])/(2*h**3)\n",
    "    F[N-2] = -u[N-2]  * (u[N-1] - u[N-3])/(2*h) \\\n",
    "            + delta * (u[N-1] - 2*u[N-2] + u[N-3])/h**2 \\\n",
    "            -delta**2*(u[0] - 2*u[N-1] + 2*u[N-3] - u[N-4])/(2*h**3)\n",
    "    F[N-1] = - u[N-1] * (u[0] - u[N-2])/(2*h) \\\n",
    "            + delta * (u[0] - 2*u[N-1] + u[N-2])/h**2 \\\n",
    "            - delta**2 * (u[1] - 2*u[0] + 2*u[N-2] - u[N-3])/(2*h**3)\n",
    "  elif bc_type == 'Neumann':\n",
    "    # set first *and* third derivative to 0\n",
    "    F[0] = 0 + delta * (u[1] - 2*u[0] + u[1])/h**2 + 0\n",
    "    F[1] = 0 + delta * (u[2] - 2*u[1] + u[0])/h**2 + 0\n",
    "    F[N-1] = 0 + delta * (u[N-2] - 2*u[N-1] + u[N-2])/h**2 + 0\n",
    "    F[N-2] = 0 + delta * (u[N-1] - 2*u[N-2] + u[N-3])/h**2 + 0\n",
    "  else:\n",
    "    raise ValueError('Unknown BC type!')\n",
    "\n",
    "  # interior nodes, per the formula\n",
    "  for j in range(2,N-2):\n",
    "    F[j] = -u[j] * (u[j+1] - u[j-1])/(2*h) \\\n",
    "           + delta * (u[j+1] - 2*u[j] + u[j-1])/h**2 \\\n",
    "           - delta**2 * (u[j+2] - 2*u[j+1] + 2*u[j-1] - u[j-2])/(2*h**3)\n",
    "\n",
    "  return F"
   ]
  },
  {
   "cell_type": "code",
   "execution_count": 26,
   "metadata": {
    "executionInfo": {
     "elapsed": 16592,
     "status": "ok",
     "timestamp": 1714020319849,
     "user": {
      "displayName": "Ivan Christov",
      "userId": "03286852141196977463"
     },
     "user_tz": 240
    },
    "id": "xFQnZVzMCfkZ"
   },
   "outputs": [],
   "source": [
    "# simulate the PDE\n",
    "sol6 = solve_ivp(fun=vanwij,\n",
    "                 t_span=[0,tmax], y0=uic,\n",
    "                 method='Radau', rtol=reltol, dense_output=True)"
   ]
  },
  {
   "cell_type": "markdown",
   "metadata": {
    "id": "LCkg_t_JClOz"
   },
   "source": [
    "## Plotting and dynamics"
   ]
  },
  {
   "cell_type": "code",
   "execution_count": 27,
   "metadata": {
    "colab": {
     "base_uri": "https://localhost:8080/",
     "height": 578,
     "output_embedded_package_id": "1fJUcrN27s5EuqkXnpzdbIv76PkKlWwNK"
    },
    "executionInfo": {
     "elapsed": 12115,
     "status": "ok",
     "timestamp": 1714020331961,
     "user": {
      "displayName": "Ivan Christov",
      "userId": "03286852141196977463"
     },
     "user_tz": 240
    },
    "id": "BaMFOMZuCm3-",
    "outputId": "e77ec615-5a1d-4e4a-8658-cc3c05c4b0c8"
   },
   "outputs": [
    {
     "data": {
      "text/plain": [
       "Output hidden; open in https://colab.research.google.com to view."
      ]
     },
     "metadata": {},
     "output_type": "display_data"
    }
   ],
   "source": [
    "# can change the plotting range for the animation if you wish\n",
    "tplot = tmax\n",
    "# define how to sample the solution in time\n",
    "tnum = 100\n",
    "dt = (tmax-0)/(tnum-1)\n",
    "tspan = np.array(range(0,tnum))*dt\n",
    "\n",
    "# set up the figure and axes\n",
    "fig, ax = plt.subplots()\n",
    "ax.set_ylabel('$u$')\n",
    "ax.set_xlabel('$x$')\n",
    "ax.set_xlim(0,xmax)\n",
    "ax.set_ylim(-2.03,2.03)\n",
    "# nice dynamic label to show time\n",
    "ttl = ax.text(0.825, 0.925, '', size='large',\n",
    "              #bbox=dict(facecolor='none', edgecolor='black', boxstyle='round'),\n",
    "              transform=ax.transAxes, animated=True)\n",
    "# so axes labels aren't cut off\n",
    "plt.tight_layout()\n",
    "plt.close()\n",
    "\n",
    "# initialize plot objects with some dummy data (replaced in animation)\n",
    "line, = ax.plot(xj, 0*xj, color='blue', linewidth=2)\n",
    "\n",
    "# animation function called sequentially by `FuncAnimation' below\n",
    "def animate(it):\n",
    "  uj = sol6.sol(it*dt)\n",
    "  line.set_data(xj, uj)\n",
    "  ttl.set_text(f'$t={it*dt:.3f}$')\n",
    "\n",
    "  return (line, ttl, )\n",
    "\n",
    "framran = range(0,tnum)\n",
    "anim = animation.FuncAnimation(fig, animate, frames=framran,\n",
    "                               interval=100, blit=True)\n",
    "\n",
    "# this is necessary to get the animation to work on Google's Colab\n",
    "rc('animation', html='jshtml')\n",
    "anim"
   ]
  },
  {
   "cell_type": "markdown",
   "metadata": {
    "id": "AyYSXVWrEITl"
   },
   "source": [
    "# Checking conservation properties"
   ]
  },
  {
   "cell_type": "markdown",
   "metadata": {
    "id": "cqLoUrn7RDVu"
   },
   "source": [
    "After running any one of the 4 examples above we can try this, picking the right `sol`.\n",
    "\n",
    "Remember that different model PDEs have different conservation properties."
   ]
  },
  {
   "cell_type": "code",
   "execution_count": 28,
   "metadata": {
    "colab": {
     "base_uri": "https://localhost:8080/",
     "height": 403
    },
    "executionInfo": {
     "elapsed": 5,
     "status": "ok",
     "timestamp": 1714020331961,
     "user": {
      "displayName": "Ivan Christov",
      "userId": "03286852141196977463"
     },
     "user_tz": 240
    },
    "id": "wrWelbWsEtDj",
    "outputId": "2871d9dd-faa1-4ad0-ce4f-609f5af9b4f5"
   },
   "outputs": [
    {
     "data": {
      "image/png": "[encoded data removed]",
      "text/plain": [
       "<Figure size 700x400 with 2 Axes>"
      ]
     },
     "metadata": {},
     "output_type": "display_data"
    }
   ],
   "source": [
    "sol = sol6\n",
    "\n",
    "# define how to sample the solution in time\n",
    "tnum = 100\n",
    "dt = (tmax-0)/tnum\n",
    "tspan = np.linspace(0.,tmax,num=tnum)\n",
    "\n",
    "# compute the momentum and energy as functions of t\n",
    "momentum = np.empty(tnum)\n",
    "energy = np.empty(tnum)\n",
    "for it in range(0,tnum):\n",
    "  uj = sol.sol(it*dt)\n",
    "  momentum[it] = np.sum(uj)\n",
    "  energy[it] = np.sum(0.5*uj**2)\n",
    "\n",
    "# plot these quantities\n",
    "fig, ax1 = plt.subplots(figsize=(7,4))\n",
    "\n",
    "# momentum on the left axis\n",
    "ax1.plot(tspan, momentum, lw=2, color='purple')\n",
    "ax1.set_ylabel('\"momentum\"', color='purple')\n",
    "ax1.set_xlabel('$t$')\n",
    "ax1.tick_params(axis='y', labelcolor='purple')\n",
    "\n",
    "# energy on the right axis\n",
    "ax2 = ax1.twinx()\n",
    "ax2.plot(tspan, energy, color='orange', lw=2)\n",
    "ax2.set_ylabel('\"energy\"', color='orange')\n",
    "ax2.tick_params(axis='y', labelcolor='orange')"
   ]
  },
  {
   "cell_type": "markdown",
   "metadata": {
    "id": "Drby_maeh8wC"
   },
   "source": [
    "# Space-time view of the dynamics"
   ]
  },
  {
   "cell_type": "markdown",
   "metadata": {
    "id": "mbXRuG5eRHkM"
   },
   "source": [
    "After running any one of the 4 examples above we can also try this..."
   ]
  },
  {
   "cell_type": "code",
   "execution_count": 29,
   "metadata": {
    "colab": {
     "base_uri": "https://localhost:8080/",
     "height": 460
    },
    "executionInfo": {
     "elapsed": 4,
     "status": "ok",
     "timestamp": 1714020331961,
     "user": {
      "displayName": "Ivan Christov",
      "userId": "03286852141196977463"
     },
     "user_tz": 240
    },
    "id": "QJdoRm4li_fs",
    "outputId": "93cafe0e-2e0a-414e-93aa-e81bfe7aee8b"
   },
   "outputs": [
    {
     "data": {
      "image/png": "[encoded data removed]",
      "text/plain": [
       "<Figure size 640x480 with 2 Axes>"
      ]
     },
     "metadata": {},
     "output_type": "display_data"
    }
   ],
   "source": [
    "sol = sol6\n",
    "\n",
    "# define how to sample the solution in time\n",
    "tnum = N\n",
    "dt = (tplot-0)/tnum\n",
    "tspan = np.linspace(0.,tmax,num=tnum)\n",
    "\n",
    "# make a matrix of space-time values u(x,t)\n",
    "ujp = np.empty((tnum,N))\n",
    "for it in range(0,tnum):\n",
    "  ujp[it,:] = sol.sol(it*dt)\n",
    "\n",
    "# make cool plot, try also cmap='RdGy'\n",
    "fig, ax = plt.subplots()\n",
    "plt.contourf(xj, tspan, ujp, 100, cmap='coolwarm')\n",
    "plt.colorbar(label='$u$')\n",
    "ax.set_ylim(0,tmax)\n",
    "ax.set_ylabel('$t$')\n",
    "ax.set_xlim(0,xmax)\n",
    "ax.set_xlabel('$x$');\n",
    "#ax.set_aspect(1/5)"
   ]
  },
  {
   "cell_type": "markdown",
   "metadata": {
    "id": "ZwsQWVFU_CN4"
   },
   "source": [
    "# Ideas to explore on your own"
   ]
  },
  {
   "cell_type": "markdown",
   "metadata": {
    "id": "zxyealVt_Eto"
   },
   "source": [
    "A few ideas for interesting \"computational experiments\" to explore on your own are outlined here.\n",
    "\n",
    "1.   Explore different initial conditions, beyond the suggested ones.\n",
    "2.   Explore different boundary conditions and their implementation in the method of lines, for example as discussed in this [book chapter](https://link.springer.com/chapter/10.1007/978-3-319-06790-2_3).\n",
    "3.   Try to implement an \"upwind\" scheme within the method of lines, for example as discussed in this [book chapter](https://link.springer.com/chapter/10.1007/978-3-319-06790-2_3).\n",
    "4.   Try to add \"artificial\" diffusion to discretized inviscid Burgers equation to stabilize the scheme (when the solution becomes double-valued/discontinuous), for example as proposed in a classic paper of [Von Neumann \\& Richtmyer](https://pubs.aip.org/aip/jap/article/21/3/232/159292/A-Method-for-the-Numerical-Calculation-of).\n"
   ]
  },
  {
   "cell_type": "code",
   "execution_count": 29,
   "metadata": {
    "executionInfo": {
     "elapsed": 4,
     "status": "ok",
     "timestamp": 1714020331962,
     "user": {
      "displayName": "Ivan Christov",
      "userId": "03286852141196977463"
     },
     "user_tz": 240
    },
    "id": "8Sum70RE_C2g"
   },
   "outputs": [],
   "source": []
  }
 ],
 "metadata": {
  "colab": {
   "collapsed_sections": [
    "TEW12XbEQh-S"
   ],
   "provenance": [
    {
     "file_id": "1IFdj9Kz5ggcD5d3b84KxeynZyjPY2ts7",
     "timestamp": 1611203165380
    }
   ],
   "toc_visible": true
  },
  "kernelspec": {
   "display_name": "Python 3",
   "name": "python3"
  }
 },
 "nbformat": 4,
 "nbformat_minor": 0
}
